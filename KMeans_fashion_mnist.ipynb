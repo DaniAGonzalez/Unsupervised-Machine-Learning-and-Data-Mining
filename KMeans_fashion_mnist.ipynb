{
  "cells": [
    {
      "cell_type": "code",
      "outputs": [],
      "source": [
        "import pandas as pd\n",
        "import tensorflow as tf\n",
        "import sklearn\n",
        "import numpy as np"
      ],
      "metadata": {
        "ExecuteTime": {
          "end_time": "2025-01-27T23:51:38.167786Z",
          "start_time": "2025-01-27T23:51:38.162801Z"
        },
        "id": "59e08a5915fe749a"
      },
      "id": "59e08a5915fe749a",
      "execution_count": null
    },
    {
      "cell_type": "code",
      "outputs": [],
      "source": [
        "import zipfile\n",
        "# Function to load images from a ZIP file\n",
        "def load_images_from_zip(zip_path, file_name):\n",
        "    with zipfile.ZipFile(zip_path, 'r') as zip_obj:\n",
        "        with zip_obj.open(file_name) as f:\n",
        "            # Read raw bytes and skip the first 16 bytes (metadata)\n",
        "            data = np.frombuffer(f.read(), np.uint8, offset=16)\n",
        "            # Reshape data into (n_samples, 28, 28)\n",
        "            data = data.reshape(-1, 28, 28)\n",
        "    return data\n",
        "\n",
        "# Function to load labels from an uncompressed file\n",
        "def load_labels(file_name):\n",
        "    with open(file_name, 'rb') as f:\n",
        "        # Read raw bytes and skip the first 8 bytes (metadata)\n",
        "        labels = np.frombuffer(f.read(), np.uint8, offset=8)\n",
        "    return labels"
      ],
      "metadata": {
        "ExecuteTime": {
          "end_time": "2025-01-27T23:51:39.280559Z",
          "start_time": "2025-01-27T23:51:39.275799Z"
        },
        "id": "30b5096bbd2b1108"
      },
      "id": "30b5096bbd2b1108",
      "execution_count": null
    },
    {
      "cell_type": "code",
      "outputs": [],
      "source": [
        "# Loadind data and labels\n",
        "train_images_zip = 'train-images-idx3-ubyte.zip'\n",
        "train_labels_file = 'train-labels-idx1-ubyte'\n",
        "test_images_zip = 't10k-images-idx3-ubyte.zip'\n",
        "test_labels_file = 't10k-labels-idx1-ubyte'"
      ],
      "metadata": {
        "ExecuteTime": {
          "end_time": "2025-01-27T23:51:40.000721Z",
          "start_time": "2025-01-27T23:51:39.997517Z"
        },
        "id": "763b3ca6e26b1675"
      },
      "id": "763b3ca6e26b1675",
      "execution_count": null
    },
    {
      "cell_type": "code",
      "outputs": [],
      "source": [
        "# Load images and labels\n",
        "train_images = load_images_from_zip(train_images_zip, 'train-images-idx3-ubyte')\n",
        "train_labels = load_labels(train_labels_file)\n",
        "test_images = load_images_from_zip(test_images_zip, 't10k-images-idx3-ubyte')\n",
        "test_labels = load_labels(test_labels_file)"
      ],
      "metadata": {
        "ExecuteTime": {
          "end_time": "2025-01-27T23:51:44.381810Z",
          "start_time": "2025-01-27T23:51:44.239640Z"
        },
        "id": "3b3dd3c915f28594"
      },
      "id": "3b3dd3c915f28594",
      "execution_count": null
    },
    {
      "cell_type": "code",
      "outputs": [],
      "source": [
        "# Flatten and normalize images to values between 0 and 1\n",
        "train_images_flat = train_images.reshape(train_images.shape[0], -1) / 255.0\n",
        "test_images_flat = test_images.reshape(test_images.shape[0], -1) / 255.0\n"
      ],
      "metadata": {
        "ExecuteTime": {
          "end_time": "2025-01-27T23:51:48.422833Z",
          "start_time": "2025-01-27T23:51:48.281796Z"
        },
        "id": "d3acd80116251d13"
      },
      "id": "d3acd80116251d13",
      "execution_count": null
    },
    {
      "cell_type": "code",
      "outputs": [],
      "source": [
        "#Combining images and labels\n",
        "X = np.concatenate([train_images_flat, test_images_flat], axis = 0)\n",
        "\n",
        "#labels\n",
        "y = np.concatenate([train_labels, test_labels], axis = 0)"
      ],
      "metadata": {
        "ExecuteTime": {
          "end_time": "2025-01-27T23:51:49.600144Z",
          "start_time": "2025-01-27T23:51:49.400373Z"
        },
        "id": "1a67e5bc56139d69"
      },
      "id": "1a67e5bc56139d69",
      "execution_count": null
    },
    {
      "cell_type": "code",
      "outputs": [
        {
          "name": "stdout",
          "output_type": "stream",
          "text": [
            "(70000, 784)\n"
          ]
        }
      ],
      "source": [
        "#checking shapes\n",
        "print(X.shape)"
      ],
      "metadata": {
        "ExecuteTime": {
          "end_time": "2025-01-27T23:51:52.175561Z",
          "start_time": "2025-01-27T23:51:52.166534Z"
        },
        "id": "80d20970b6982b61",
        "outputId": "87a4878b-5572-4579-f1d4-4b99a11522e2"
      },
      "id": "80d20970b6982b61",
      "execution_count": null
    },
    {
      "cell_type": "code",
      "outputs": [
        {
          "name": "stdout",
          "output_type": "stream",
          "text": [
            "(70000,)\n"
          ]
        }
      ],
      "source": [
        "print(y.shape)"
      ],
      "metadata": {
        "ExecuteTime": {
          "end_time": "2025-01-27T23:51:53.687770Z",
          "start_time": "2025-01-27T23:51:53.684026Z"
        },
        "id": "6827956b2d4745d7",
        "outputId": "aeb771a2-e2a1-4983-cf8b-1bf8f18f6b57"
      },
      "id": "6827956b2d4745d7",
      "execution_count": null
    },
    {
      "cell_type": "markdown",
      "source": [
        "#**Starts with KMeans**"
      ],
      "metadata": {
        "collapsed": false,
        "id": "a43c235bc42c9567"
      },
      "id": "a43c235bc42c9567"
    },
    {
      "cell_type": "code",
      "outputs": [],
      "source": [
        "# Initialization\n",
        "def init_centroids (k, data):\n",
        "    np.random.seed(42)\n",
        "    return data[np.random.choice(data.shape[0], k, replace=False)]"
      ],
      "metadata": {
        "ExecuteTime": {
          "end_time": "2025-01-27T23:51:57.733845Z",
          "start_time": "2025-01-27T23:51:57.729644Z"
        },
        "id": "c0279c7ce60cba68"
      },
      "id": "c0279c7ce60cba68",
      "execution_count": null
    },
    {
      "cell_type": "code",
      "outputs": [],
      "source": [
        "# E step\n",
        "# from the previous centroids, computation of the membership pi_ik\n",
        "from sklearn.metrics import pairwise_distances\n",
        "\n",
        "def e_step(data,centroids):\n",
        "    distances = pairwise_distances(data, centroids, metric='euclidean')\n",
        "\n",
        "    #assigning each xi to the closest cluster\n",
        "    memberships = np.zeros_like(distances)\n",
        "    memberships[np.arange(distances.shape[0]), np.argmin(distances, axis=1)] = 1\n",
        "\n",
        "    return memberships  # Binary matrix [n_samples, k]. If 1 = x_i is assigned to the cluster"
      ],
      "metadata": {
        "ExecuteTime": {
          "end_time": "2025-01-27T23:51:58.889234Z",
          "start_time": "2025-01-27T23:51:58.532780Z"
        },
        "id": "74290a2b7835497b"
      },
      "id": "74290a2b7835497b",
      "execution_count": null
    },
    {
      "cell_type": "code",
      "outputs": [],
      "source": [
        "# Objective fn\n",
        "from sklearn.metrics import pairwise_distances\n",
        "\n",
        "# Objective Function\n",
        "def compute_objective(data, centroids, memberships):\n",
        "    # Compute squared Euclidean distances using scikit-learn\n",
        "    dist_squared = pairwise_distances(data, centroids, metric='euclidean') ** 2\n",
        "\n",
        "    # Compute the objective by summing the weighted distances\n",
        "    J = np.sum(memberships * dist_squared)\n",
        "    return J\n",
        "\n",
        ""
      ],
      "metadata": {
        "ExecuteTime": {
          "end_time": "2025-01-27T23:52:00.908993Z",
          "start_time": "2025-01-27T23:52:00.903088Z"
        },
        "id": "324f5271d2997633"
      },
      "id": "324f5271d2997633",
      "execution_count": null
    },
    {
      "cell_type": "code",
      "outputs": [],
      "source": [
        "# M step: giving the memberships computation of the new centroids u_k\n",
        "def m_step(data, memberships):\n",
        "    return np.dot(memberships.T, data) / np.sum(memberships.T, axis = 1, keepdims=True)"
      ],
      "metadata": {
        "ExecuteTime": {
          "end_time": "2025-01-27T23:52:01.755496Z",
          "start_time": "2025-01-27T23:52:01.752425Z"
        },
        "id": "6513172229c11d3f"
      },
      "id": "6513172229c11d3f",
      "execution_count": null
    },
    {
      "cell_type": "code",
      "outputs": [],
      "source": [
        "# Kmeans function\n",
        "def kmeans(data, k, max_iter):\n",
        "    # Init\n",
        "    centroids = init_centroids(k,data)\n",
        "\n",
        "    # list to stor the J's\n",
        "    J_history = []\n",
        "\n",
        "    for iteration in range(max_iter):\n",
        "        # E-step updating memberships\n",
        "        memberships = e_step(data, centroids)\n",
        "\n",
        "        # objective function after e\n",
        "        J_e = compute_objective(data, centroids, memberships)\n",
        "        J_history.append((iteration + 1, 'E-step', J_e))\n",
        "        print(f\"Iteration {iteration + 1} (E-step), Objective Function J: {J_e}\")\n",
        "\n",
        "        # M-step: uk update\n",
        "        centroids = m_step(data, memberships)\n",
        "\n",
        "        # objective function after m\n",
        "        J_after = compute_objective(data, centroids, memberships)\n",
        "        J_history.append((iteration + 1, 'M-step', J_after))\n",
        "        print(f\"Iteration {iteration + 1} (M-step), Objective Function J: {J_after}\")\n",
        "\n",
        "    # results\n",
        "    return centroids, memberships, J_history"
      ],
      "metadata": {
        "ExecuteTime": {
          "end_time": "2025-01-27T23:52:04.758896Z",
          "start_time": "2025-01-27T23:52:04.752862Z"
        },
        "id": "9e68b4392668d8d8"
      },
      "id": "9e68b4392668d8d8",
      "execution_count": null
    },
    {
      "cell_type": "code",
      "outputs": [
        {
          "name": "stdout",
          "output_type": "stream",
          "text": [
            "Iteration 1 (E-step), Objective Function J: 4236695.799092658\n",
            "Iteration 1 (M-step), Objective Function J: 2760512.7082585916\n",
            "Iteration 2 (E-step), Objective Function J: 2541014.3716488187\n",
            "Iteration 2 (M-step), Objective Function J: 2415515.9232988353\n",
            "Iteration 3 (E-step), Objective Function J: 2348707.1128217475\n",
            "Iteration 3 (M-step), Objective Function J: 2310055.2458272697\n",
            "Iteration 4 (E-step), Objective Function J: 2289294.232477308\n",
            "Iteration 4 (M-step), Objective Function J: 2277105.4547846485\n",
            "Iteration 5 (E-step), Objective Function J: 2269817.2262748675\n",
            "Iteration 5 (M-step), Objective Function J: 2264464.747894467\n",
            "Iteration 6 (E-step), Objective Function J: 2259566.2636823566\n",
            "Iteration 6 (M-step), Objective Function J: 2253369.488245678\n",
            "Iteration 7 (E-step), Objective Function J: 2245926.2533060806\n",
            "Iteration 7 (M-step), Objective Function J: 2237640.0463701626\n",
            "Iteration 8 (E-step), Objective Function J: 2233847.103795133\n",
            "Iteration 8 (M-step), Objective Function J: 2231743.6018357123\n",
            "Iteration 9 (E-step), Objective Function J: 2230290.302198429\n",
            "Iteration 9 (M-step), Objective Function J: 2229016.4788697227\n",
            "Iteration 10 (E-step), Objective Function J: 2227876.416568596\n",
            "Iteration 10 (M-step), Objective Function J: 2226821.279185694\n"
          ]
        }
      ],
      "source": [
        "# Kmeans K=10\n",
        "k=10\n",
        "max_iter = 10\n",
        "centroids_10, memberships_10, J_history_10 = kmeans(X, k, max_iter)"
      ],
      "metadata": {
        "ExecuteTime": {
          "end_time": "2025-01-27T23:52:37.601511Z",
          "start_time": "2025-01-27T23:52:35.171283Z"
        },
        "id": "7a1accd4e2d660e0",
        "outputId": "de4a466b-40d6-4d07-f243-af6ef175a7e4"
      },
      "id": "7a1accd4e2d660e0",
      "execution_count": null
    },
    {
      "cell_type": "code",
      "outputs": [
        {
          "name": "stdout",
          "output_type": "stream",
          "text": [
            "(70000,)\n"
          ]
        }
      ],
      "source": [
        "#getting the clusters\n",
        "clusters = np.argmax(memberships_10, axis=1)\n",
        "print(clusters.shape)"
      ],
      "metadata": {
        "ExecuteTime": {
          "end_time": "2025-01-27T23:53:36.736766Z",
          "start_time": "2025-01-27T23:53:36.722249Z"
        },
        "id": "872a20485a39edfb",
        "outputId": "cead9afe-a4db-4876-973d-cbe74f3824c6"
      },
      "id": "872a20485a39edfb",
      "execution_count": null
    },
    {
      "cell_type": "code",
      "outputs": [
        {
          "name": "stdout",
          "output_type": "stream",
          "text": [
            "Iteration 1 (E-step), Objective Function J: 3757736.9317185725\n",
            "Iteration 1 (M-step), Objective Function J: 2341121.148057056\n",
            "Iteration 2 (E-step), Objective Function J: 2141357.0369235794\n",
            "Iteration 2 (M-step), Objective Function J: 2036826.0256631474\n",
            "Iteration 3 (E-step), Objective Function J: 1978064.4681071634\n",
            "Iteration 3 (M-step), Objective Function J: 1940199.66100785\n",
            "Iteration 4 (E-step), Objective Function J: 1920957.1048904585\n",
            "Iteration 4 (M-step), Objective Function J: 1909343.518553321\n",
            "Iteration 5 (E-step), Objective Function J: 1901142.6606707193\n",
            "Iteration 5 (M-step), Objective Function J: 1894427.831253024\n",
            "Iteration 6 (E-step), Objective Function J: 1890193.0565327064\n",
            "Iteration 6 (M-step), Objective Function J: 1887091.7612746777\n",
            "Iteration 7 (E-step), Objective Function J: 1885010.328657064\n",
            "Iteration 7 (M-step), Objective Function J: 1883425.8229371484\n",
            "Iteration 8 (E-step), Objective Function J: 1882186.7975490654\n",
            "Iteration 8 (M-step), Objective Function J: 1881129.503531172\n",
            "Iteration 9 (E-step), Objective Function J: 1880213.3774768389\n",
            "Iteration 9 (M-step), Objective Function J: 1879330.5060637337\n",
            "Iteration 10 (E-step), Objective Function J: 1878391.8530031845\n",
            "Iteration 10 (M-step), Objective Function J: 1877333.3778545198\n"
          ]
        }
      ],
      "source": [
        "# Kmeans K=20\n",
        "k=20\n",
        "max_iter = 10\n",
        "centroids_20, memberships_20, J_history_20 = kmeans(X, k, max_iter)"
      ],
      "metadata": {
        "ExecuteTime": {
          "end_time": "2025-01-27T23:53:43.880555Z",
          "start_time": "2025-01-27T23:53:41.530194Z"
        },
        "id": "13c8cc0ead5a78f6",
        "outputId": "47e9e746-bab8-40ed-fe7f-6aa8c2ddfb0d"
      },
      "id": "13c8cc0ead5a78f6",
      "execution_count": null
    },
    {
      "cell_type": "code",
      "outputs": [
        {
          "name": "stdout",
          "output_type": "stream",
          "text": [
            "Iteration 1 (E-step), Objective Function J: 5162296.909219533\n",
            "Iteration 1 (M-step), Objective Function J: 3081998.2514617834\n",
            "Iteration 2 (E-step), Objective Function J: 2888995.3869262803\n",
            "Iteration 2 (M-step), Objective Function J: 2842006.7224713936\n",
            "Iteration 3 (E-step), Objective Function J: 2821854.8095341204\n",
            "Iteration 3 (M-step), Objective Function J: 2809171.16700695\n",
            "Iteration 4 (E-step), Objective Function J: 2800261.5059081027\n",
            "Iteration 4 (M-step), Objective Function J: 2793461.846557532\n",
            "Iteration 5 (E-step), Objective Function J: 2787735.1031088172\n",
            "Iteration 5 (M-step), Objective Function J: 2782468.0904254788\n",
            "Iteration 6 (E-step), Objective Function J: 2778056.775476995\n",
            "Iteration 6 (M-step), Objective Function J: 2774273.276290742\n",
            "Iteration 7 (E-step), Objective Function J: 2771113.7560496484\n",
            "Iteration 7 (M-step), Objective Function J: 2768458.2259303713\n",
            "Iteration 8 (E-step), Objective Function J: 2766409.9114700914\n",
            "Iteration 8 (M-step), Objective Function J: 2764724.6239320408\n",
            "Iteration 9 (E-step), Objective Function J: 2763258.390326512\n",
            "Iteration 9 (M-step), Objective Function J: 2761974.38653389\n",
            "Iteration 10 (E-step), Objective Function J: 2760759.081430676\n",
            "Iteration 10 (M-step), Objective Function J: 2759625.3027536822\n"
          ]
        }
      ],
      "source": [
        "# Kmeans K=5\n",
        "k=5\n",
        "max_iter = 10\n",
        "centroids_5, memberships_5, J_history_5 = kmeans(X, k, max_iter)"
      ],
      "metadata": {
        "ExecuteTime": {
          "end_time": "2025-01-27T23:53:49.603222Z",
          "start_time": "2025-01-27T23:53:47.804395Z"
        },
        "id": "20c37ddc1c1fbc3a",
        "outputId": "94eb850f-c2e1-432a-a21a-883dd08f321c"
      },
      "id": "20c37ddc1c1fbc3a",
      "execution_count": null
    },
    {
      "cell_type": "code",
      "outputs": [],
      "source": [
        "# Function for Purity\n",
        "# Purity measures the diversity of the labels\n",
        "from collections import Counter\n",
        "\n",
        "def purity(clusters, labels):\n",
        "    correct_labels = 0  # Initialize counter for correct predictions\n",
        "    n_clusters = len(np.unique(clusters))  # Number of clusters\n",
        "\n",
        "    for cluster in range(n_clusters):\n",
        "        indices = np.where(clusters == cluster)[0]  # Get indices of data points in the cluster\n",
        "        cluster_labels = labels[indices]  # Get labels of those points\n",
        "        most_freq = Counter(cluster_labels).most_common(1)[0][1]  # Find the most frequent label\n",
        "        correct_labels += most_freq  # Count correct predictions for this cluster\n",
        "\n",
        "    return correct_labels / len(labels)  # Calculate purity as a fraction"
      ],
      "metadata": {
        "ExecuteTime": {
          "end_time": "2025-01-27T23:53:54.577884Z",
          "start_time": "2025-01-27T23:53:54.572678Z"
        },
        "id": "828a1ff7dfb91d65"
      },
      "id": "828a1ff7dfb91d65",
      "execution_count": null
    },
    {
      "cell_type": "code",
      "outputs": [
        {
          "name": "stdout",
          "output_type": "stream",
          "text": [
            "Purity: 0.5464142857142857\n"
          ]
        }
      ],
      "source": [
        "fashion_purity = purity(clusters, y)\n",
        "print(f\"Purity: {fashion_purity}\")"
      ],
      "metadata": {
        "ExecuteTime": {
          "end_time": "2025-01-27T23:54:40.026817Z",
          "start_time": "2025-01-27T23:54:40.008942Z"
        },
        "id": "4205d429367397fc",
        "outputId": "fe049297-f6ad-40a6-9db6-a16190af98a6"
      },
      "id": "4205d429367397fc",
      "execution_count": null
    },
    {
      "cell_type": "code",
      "outputs": [],
      "source": [
        "# FN for gini index\n",
        "\n",
        "def gini_index(clusters, Y):\n",
        "    n_samples = len(Y)  # Total number of samples\n",
        "    n_clusters = len(np.unique(clusters))  # Number of unique clusters\n",
        "    total_gini = 0  # Initialize total weighted Gini\n",
        "\n",
        "    for cluster in range(n_clusters):\n",
        "        # Get indices of points belonging to the current cluster\n",
        "        indices = np.where(clusters == cluster)[0]\n",
        "        cluster_labels = Y[indices]\n",
        "\n",
        "        # Compute the proportion of each label in the cluster\n",
        "        total_points = len(cluster_labels)\n",
        "        if total_points == 0:\n",
        "            continue  # Skip empty clusters\n",
        "\n",
        "        label_counts = Counter(cluster_labels)  # Count labels in the cluster\n",
        "        proportions = np.array([count / total_points for count in label_counts.values()])\n",
        "\n",
        "        # Calculate the Gini index for this cluster\n",
        "        gini = 1 - np.sum(proportions**2)\n",
        "        total_gini += total_points * gini  # Weight Gini by cluster size\n",
        "\n",
        "    # Compute the global Gini index\n",
        "    global_gini = total_gini / n_samples\n",
        "    return global_gini\n"
      ],
      "metadata": {
        "ExecuteTime": {
          "end_time": "2025-01-27T23:54:41.168387Z",
          "start_time": "2025-01-27T23:54:41.161739Z"
        },
        "id": "295e4f38c7462e77"
      },
      "id": "295e4f38c7462e77",
      "execution_count": null
    },
    {
      "cell_type": "code",
      "outputs": [
        {
          "name": "stdout",
          "output_type": "stream",
          "text": [
            "Gini: 0.5716751925509309\n"
          ]
        }
      ],
      "source": [
        "#gini computation\n",
        "gini_fashion = gini_index(clusters, y)\n",
        "print(f\"Gini: {gini_fashion}\")"
      ],
      "metadata": {
        "ExecuteTime": {
          "end_time": "2025-01-27T23:54:43.855082Z",
          "start_time": "2025-01-27T23:54:43.843395Z"
        },
        "id": "3a86a7739a1e9c0c",
        "outputId": "8e0d1fc2-bd9e-4a76-ab82-668b9dcb93c9"
      },
      "id": "3a86a7739a1e9c0c",
      "execution_count": null
    },
    {
      "cell_type": "code",
      "outputs": [],
      "source": [],
      "metadata": {
        "id": "f7143e1bc36757c3"
      },
      "id": "f7143e1bc36757c3",
      "execution_count": null
    }
  ],
  "metadata": {
    "kernelspec": {
      "display_name": "Python 3",
      "language": "python",
      "name": "python3"
    },
    "language_info": {
      "codemirror_mode": {
        "name": "ipython",
        "version": 2
      },
      "file_extension": ".py",
      "mimetype": "text/x-python",
      "name": "python",
      "nbconvert_exporter": "python",
      "pygments_lexer": "ipython2",
      "version": "2.7.6"
    },
    "colab": {
      "provenance": []
    }
  },
  "nbformat": 4,
  "nbformat_minor": 5
}