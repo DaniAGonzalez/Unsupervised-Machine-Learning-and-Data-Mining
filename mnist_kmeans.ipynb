{
  "cells": [
    {
      "cell_type": "code",
      "outputs": [],
      "source": [
        "import tensorflow as tf\n",
        "import numpy as np\n",
        "from sklearn.metrics.pairwise import euclidean_distances"
      ],
      "metadata": {
        "ExecuteTime": {
          "end_time": "2025-01-28T00:06:42.424454Z",
          "start_time": "2025-01-28T00:06:39.052067Z"
        },
        "id": "7878c2b68ac936ad"
      },
      "id": "7878c2b68ac936ad",
      "execution_count": null
    },
    {
      "cell_type": "code",
      "outputs": [
        {
          "name": "stdout",
          "output_type": "stream",
          "text": [
            "(70000, 28, 28)\n",
            "(70000,)\n",
            "(70000, 784)\n"
          ]
        }
      ],
      "source": [
        "# retrieving the data from tensorflow and concatenating it because it is splitted\n",
        "mnist = tf.keras.datasets.mnist\n",
        "(X_train, y_train), (X_test, y_test) = mnist.load_data()\n",
        "\n",
        "# concatenation of the splitted data\n",
        "X = np.concatenate((X_train, X_test), axis=0)  # X has all the images\n",
        "y = np.concatenate((y_train, y_test), axis=0)  # Y has the labels\n",
        "\n",
        "print(X.shape)\n",
        "print(y.shape)\n",
        "\n",
        "# Flatenning the X data because it is in 28 x 28\n",
        "data = X.reshape(X.shape[0], -1)\n",
        "print(data.shape)"
      ],
      "metadata": {
        "ExecuteTime": {
          "end_time": "2025-01-28T00:06:50.907192Z",
          "start_time": "2025-01-28T00:06:50.822191Z"
        },
        "id": "8e34261597dd0f4a",
        "outputId": "ad28028c-0429-4a48-939e-c6c5b272501d"
      },
      "id": "8e34261597dd0f4a",
      "execution_count": null
    },
    {
      "cell_type": "code",
      "outputs": [
        {
          "name": "stdout",
          "output_type": "stream",
          "text": [
            "[  0   0   0   0   0   0   0   0   0   0   0   0   0   0   0   0   0   0\n",
            "   0   0   0   0   0   0   0   0   0   0   0   0   0   0   0   0   0   0\n",
            "   0   0   0   0   0   0   0   0   0   0   0   0   0   0   0   0   0   0\n",
            "   0   0   0   0   0   0   0   0   0   0   0   0   0   0   0   0   0   0\n",
            "   0   0   0   0   0   0   0   0   0   0   0   0   0   0   0   0   0   0\n",
            "   0   0   0   0   0   0   0   0   0   0   0   0   0   0   0   0   0   0\n",
            "   0   0   0   0   0   0   0   0   0   0   0   0   0   0   0   0   0   0\n",
            "   0   0   0   0   0   0   0   0   0   0   0   0   0   0   0   0   0   0\n",
            "   0   0   0   0   0   0   0   0   3  18  18  18 126 136 175  26 166 255\n",
            " 247 127   0   0   0   0   0   0   0   0   0   0   0   0  30  36  94 154\n",
            " 170 253 253 253 253 253 225 172 253 242 195  64   0   0   0   0   0   0\n",
            "   0   0   0   0   0  49 238 253 253 253 253 253 253 253 253 251  93  82\n",
            "  82  56  39   0   0   0   0   0   0   0   0   0   0   0   0  18 219 253\n",
            " 253 253 253 253 198 182 247 241   0   0   0   0   0   0   0   0   0   0\n",
            "   0   0   0   0   0   0   0   0  80 156 107 253 253 205  11   0  43 154\n",
            "   0   0   0   0   0   0   0   0   0   0   0   0   0   0   0   0   0   0\n",
            "   0  14   1 154 253  90   0   0   0   0   0   0   0   0   0   0   0   0\n",
            "   0   0   0   0   0   0   0   0   0   0   0   0   0 139 253 190   2   0\n",
            "   0   0   0   0   0   0   0   0   0   0   0   0   0   0   0   0   0   0\n",
            "   0   0   0   0   0  11 190 253  70   0   0   0   0   0   0   0   0   0\n",
            "   0   0   0   0   0   0   0   0   0   0   0   0   0   0   0   0  35 241\n",
            " 225 160 108   1   0   0   0   0   0   0   0   0   0   0   0   0   0   0\n",
            "   0   0   0   0   0   0   0   0   0  81 240 253 253 119  25   0   0   0\n",
            "   0   0   0   0   0   0   0   0   0   0   0   0   0   0   0   0   0   0\n",
            "   0   0  45 186 253 253 150  27   0   0   0   0   0   0   0   0   0   0\n",
            "   0   0   0   0   0   0   0   0   0   0   0   0   0  16  93 252 253 187\n",
            "   0   0   0   0   0   0   0   0   0   0   0   0   0   0   0   0   0   0\n",
            "   0   0   0   0   0   0   0 249 253 249  64   0   0   0   0   0   0   0\n",
            "   0   0   0   0   0   0   0   0   0   0   0   0   0   0  46 130 183 253\n",
            " 253 207   2   0   0   0   0   0   0   0   0   0   0   0   0   0   0   0\n",
            "   0   0   0   0  39 148 229 253 253 253 250 182   0   0   0   0   0   0\n",
            "   0   0   0   0   0   0   0   0   0   0   0   0  24 114 221 253 253 253\n",
            " 253 201  78   0   0   0   0   0   0   0   0   0   0   0   0   0   0   0\n",
            "   0   0  23  66 213 253 253 253 253 198  81   2   0   0   0   0   0   0\n",
            "   0   0   0   0   0   0   0   0   0   0  18 171 219 253 253 253 253 195\n",
            "  80   9   0   0   0   0   0   0   0   0   0   0   0   0   0   0   0   0\n",
            "  55 172 226 253 253 253 253 244 133  11   0   0   0   0   0   0   0   0\n",
            "   0   0   0   0   0   0   0   0   0   0 136 253 253 253 212 135 132  16\n",
            "   0   0   0   0   0   0   0   0   0   0   0   0   0   0   0   0   0   0\n",
            "   0   0   0   0   0   0   0   0   0   0   0   0   0   0   0   0   0   0\n",
            "   0   0   0   0   0   0   0   0   0   0   0   0   0   0   0   0   0   0\n",
            "   0   0   0   0   0   0   0   0   0   0   0   0   0   0   0   0   0   0\n",
            "   0   0   0   0   0   0   0   0   0   0   0   0   0   0   0   0   0   0\n",
            "   0   0   0   0   0   0   0   0   0   0]\n"
          ]
        }
      ],
      "source": [
        "print(data[0])"
      ],
      "metadata": {
        "ExecuteTime": {
          "end_time": "2025-01-28T00:06:51.842822Z",
          "start_time": "2025-01-28T00:06:51.838485Z"
        },
        "id": "a558cb7bb8543e93",
        "outputId": "09b1b9c7-f246-4f12-ceb3-76e0963fa467"
      },
      "id": "a558cb7bb8543e93",
      "execution_count": null
    },
    {
      "cell_type": "code",
      "outputs": [],
      "source": [
        "# Initializing centroids\n",
        "def init_centroids(data, k):\n",
        "    \"\"\"Selects k initial centroids randomly from the data.\n",
        "    Inputs:\n",
        "    - data: Dataset of shape (n_samples, n_features).\n",
        "    - k: Number of clusters.\n",
        "    output:\n",
        "    - centroids: Initial centroids selected randomly from the dataset.\n",
        "    \"\"\"\n",
        "    np.random.seed(42)  # Set a random seed for reproducibility\n",
        "    return data[np.random.choice(data.shape[0], k, replace=False)]  # Randomly select k data points as centroids\n"
      ],
      "metadata": {
        "ExecuteTime": {
          "end_time": "2025-01-28T00:06:54.517049Z",
          "start_time": "2025-01-28T00:06:54.513051Z"
        },
        "id": "b622f4f6153d0db2"
      },
      "id": "b622f4f6153d0db2",
      "execution_count": null
    },
    {
      "cell_type": "code",
      "outputs": [],
      "source": [
        "# E-step: given the centroids u_k, computation of the new membership (pi_ik)\n",
        "def e_step(data, centroids):\n",
        "    # Calculate distances between each data point and each centroid\n",
        "    distances = euclidean_distances(data, centroids)\n",
        "\n",
        "    # Initialize a binary membership matrix with the same shape as distances\n",
        "    memberships = np.zeros_like(distances)\n",
        "\n",
        "    # Assign each data point to the closest centroid\n",
        "    memberships[np.arange(distances.shape[0]), np.argmin(distances, axis=1)] = 1\n",
        "\n",
        "    # Return the membership matrix: [n_samples, k].\n",
        "    # If 1, it means the data point x_i is assigned to the cluster k.\n",
        "    return memberships\n"
      ],
      "metadata": {
        "ExecuteTime": {
          "end_time": "2025-01-28T00:06:55.686677Z",
          "start_time": "2025-01-28T00:06:55.684049Z"
        },
        "id": "e7fc97746c9cffc4"
      },
      "id": "e7fc97746c9cffc4",
      "execution_count": null
    },
    {
      "cell_type": "code",
      "outputs": [],
      "source": [
        "# Objective function: computes the total cost J for k-means\n",
        "def compute_objective(data, centroids, memberships):\n",
        "    # Compute the squared distances between each data point and each centroid\n",
        "    dist_squared = euclidean_distances(data, centroids) ** 2\n",
        "\n",
        "    # Multiply distances by the membership matrix and sum to compute J\n",
        "    # This adds up the distances for the assigned clusters only\n",
        "    J = np.sum(memberships * dist_squared)\n",
        "\n",
        "    # Return the value of the objective function J\n",
        "    return J\n",
        "\n"
      ],
      "metadata": {
        "ExecuteTime": {
          "end_time": "2025-01-28T00:06:56.413319Z",
          "start_time": "2025-01-28T00:06:56.411438Z"
        },
        "id": "683b152483601c29"
      },
      "id": "683b152483601c29",
      "execution_count": null
    },
    {
      "cell_type": "code",
      "outputs": [],
      "source": [
        "# M-step: update the centroids (u_k) based on the current memberships\n",
        "def m_step(data, memberships):\n",
        "    # Compute the new centroids (u_k)\n",
        "    # Numerator: weighted sum of the data points for each cluster\n",
        "    # Denominator: total number of data points assigned to each cluster\n",
        "    return np.dot(memberships.T, data) / np.sum(memberships.T, axis=1, keepdims=True)\n"
      ],
      "metadata": {
        "ExecuteTime": {
          "end_time": "2025-01-28T00:06:58.314891Z",
          "start_time": "2025-01-28T00:06:58.312697Z"
        },
        "id": "e3ff5d74b927945"
      },
      "id": "e3ff5d74b927945",
      "execution_count": null
    },
    {
      "cell_type": "code",
      "outputs": [],
      "source": [
        "# KMeans function\n",
        "def kmeans(data, k, max_iter):\n",
        "    # Init\n",
        "    centroids = init_centroids(data, k)\n",
        "\n",
        "    # list to stor the J's\n",
        "    J_history = []\n",
        "\n",
        "    for iteration in range(max_iter):\n",
        "        # E-step updating memberships\n",
        "        memberships = e_step(data, centroids)\n",
        "\n",
        "        # objective function after e\n",
        "        J_e = compute_objective(data, centroids, memberships)\n",
        "        J_history.append((iteration + 1, 'E-step', J_e))\n",
        "        print(f\"Iteration {iteration + 1} (E-step), Objective Function J: {J_e}\")\n",
        "\n",
        "        # M-step: uk update\n",
        "        centroids = m_step(data, memberships)\n",
        "\n",
        "        # objective function after m\n",
        "        J_after = compute_objective(data, centroids, memberships)\n",
        "        J_history.append((iteration + 1, 'M-step', J_after))\n",
        "        print(f\"Iteration {iteration + 1} (M-step), Objective Function J: {J_after}\")\n",
        "\n",
        "    # results\n",
        "    return centroids, memberships, J_history"
      ],
      "metadata": {
        "ExecuteTime": {
          "end_time": "2025-01-28T00:07:03.526782Z",
          "start_time": "2025-01-28T00:07:03.521117Z"
        },
        "id": "e07842c7d1a75542"
      },
      "id": "e07842c7d1a75542",
      "execution_count": null
    },
    {
      "cell_type": "code",
      "outputs": [],
      "source": [
        "# normalizing the data before applying kmeans\n",
        "data = data/255"
      ],
      "metadata": {
        "ExecuteTime": {
          "end_time": "2025-01-28T00:07:04.625430Z",
          "start_time": "2025-01-28T00:07:04.458139Z"
        },
        "id": "f2de5395548c48f5"
      },
      "id": "f2de5395548c48f5",
      "execution_count": null
    },
    {
      "cell_type": "code",
      "outputs": [
        {
          "name": "stdout",
          "output_type": "stream",
          "text": [
            "[0.         0.         0.         0.         0.         0.\n",
            " 0.         0.         0.         0.         0.         0.\n",
            " 0.         0.         0.         0.         0.         0.\n",
            " 0.         0.         0.         0.         0.         0.\n",
            " 0.         0.         0.         0.         0.         0.\n",
            " 0.         0.         0.         0.         0.         0.\n",
            " 0.         0.         0.         0.         0.         0.\n",
            " 0.         0.         0.         0.         0.         0.\n",
            " 0.         0.         0.         0.         0.         0.\n",
            " 0.         0.         0.         0.         0.         0.\n",
            " 0.         0.         0.         0.         0.         0.\n",
            " 0.         0.         0.         0.         0.         0.\n",
            " 0.         0.         0.         0.         0.         0.\n",
            " 0.         0.         0.         0.         0.         0.\n",
            " 0.         0.         0.         0.         0.         0.\n",
            " 0.         0.         0.         0.         0.         0.\n",
            " 0.         0.         0.         0.         0.         0.\n",
            " 0.         0.         0.         0.         0.         0.\n",
            " 0.         0.         0.         0.         0.         0.\n",
            " 0.         0.         0.         0.         0.         0.\n",
            " 0.         0.         0.         0.         0.         0.\n",
            " 0.         0.2        0.62352941 0.99215686 0.62352941 0.19607843\n",
            " 0.         0.         0.         0.         0.         0.\n",
            " 0.         0.         0.         0.         0.         0.\n",
            " 0.         0.         0.         0.         0.         0.\n",
            " 0.         0.         0.         0.         0.18823529 0.93333333\n",
            " 0.98823529 0.98823529 0.98823529 0.92941176 0.         0.\n",
            " 0.         0.         0.         0.         0.         0.\n",
            " 0.         0.         0.         0.         0.         0.\n",
            " 0.         0.         0.         0.         0.         0.\n",
            " 0.         0.21176471 0.89019608 0.99215686 0.98823529 0.9372549\n",
            " 0.91372549 0.98823529 0.22352941 0.02352941 0.         0.\n",
            " 0.         0.         0.         0.         0.         0.\n",
            " 0.         0.         0.         0.         0.         0.\n",
            " 0.         0.         0.         0.03921569 0.23529412 0.87843137\n",
            " 0.98823529 0.99215686 0.98823529 0.79215686 0.32941176 0.98823529\n",
            " 0.99215686 0.47843137 0.         0.         0.         0.\n",
            " 0.         0.         0.         0.         0.         0.\n",
            " 0.         0.         0.         0.         0.         0.\n",
            " 0.         0.63921569 0.98823529 0.98823529 0.98823529 0.99215686\n",
            " 0.98823529 0.98823529 0.37647059 0.74117647 0.99215686 0.65490196\n",
            " 0.         0.         0.         0.         0.         0.\n",
            " 0.         0.         0.         0.         0.         0.\n",
            " 0.         0.         0.         0.         0.2        0.93333333\n",
            " 0.99215686 0.99215686 0.74509804 0.44705882 0.99215686 0.89411765\n",
            " 0.18431373 0.30980392 1.         0.65882353 0.         0.\n",
            " 0.         0.         0.         0.         0.         0.\n",
            " 0.         0.         0.         0.         0.         0.\n",
            " 0.         0.18823529 0.93333333 0.98823529 0.98823529 0.70196078\n",
            " 0.04705882 0.29411765 0.4745098  0.08235294 0.         0.\n",
            " 0.99215686 0.95294118 0.19607843 0.         0.         0.\n",
            " 0.         0.         0.         0.         0.         0.\n",
            " 0.         0.         0.         0.         0.14901961 0.64705882\n",
            " 0.99215686 0.91372549 0.81568627 0.32941176 0.         0.\n",
            " 0.         0.         0.         0.         0.99215686 0.98823529\n",
            " 0.64705882 0.         0.         0.         0.         0.\n",
            " 0.         0.         0.         0.         0.         0.\n",
            " 0.         0.02745098 0.69803922 0.98823529 0.94117647 0.27843137\n",
            " 0.0745098  0.10980392 0.         0.         0.         0.\n",
            " 0.         0.         0.99215686 0.98823529 0.76470588 0.\n",
            " 0.         0.         0.         0.         0.         0.\n",
            " 0.         0.         0.         0.         0.         0.22352941\n",
            " 0.98823529 0.98823529 0.24705882 0.         0.         0.\n",
            " 0.         0.         0.         0.         0.         0.\n",
            " 0.99215686 0.98823529 0.76470588 0.         0.         0.\n",
            " 0.         0.         0.         0.         0.         0.\n",
            " 0.         0.         0.         0.77647059 0.99215686 0.74509804\n",
            " 0.         0.         0.         0.         0.         0.\n",
            " 0.         0.         0.         0.         1.         0.99215686\n",
            " 0.76862745 0.         0.         0.         0.         0.\n",
            " 0.         0.         0.         0.         0.         0.\n",
            " 0.29803922 0.96470588 0.98823529 0.43921569 0.         0.\n",
            " 0.         0.         0.         0.         0.         0.\n",
            " 0.         0.         0.99215686 0.98823529 0.58039216 0.\n",
            " 0.         0.         0.         0.         0.         0.\n",
            " 0.         0.         0.         0.         0.33333333 0.98823529\n",
            " 0.90196078 0.09803922 0.         0.         0.         0.\n",
            " 0.         0.         0.         0.         0.02745098 0.52941176\n",
            " 0.99215686 0.72941176 0.04705882 0.         0.         0.\n",
            " 0.         0.         0.         0.         0.         0.\n",
            " 0.         0.         0.33333333 0.98823529 0.8745098  0.\n",
            " 0.         0.         0.         0.         0.         0.\n",
            " 0.         0.02745098 0.51372549 0.98823529 0.88235294 0.27843137\n",
            " 0.         0.         0.         0.         0.         0.\n",
            " 0.         0.         0.         0.         0.         0.\n",
            " 0.33333333 0.98823529 0.56862745 0.         0.         0.\n",
            " 0.         0.         0.         0.         0.18823529 0.64705882\n",
            " 0.98823529 0.67843137 0.         0.         0.         0.\n",
            " 0.         0.         0.         0.         0.         0.\n",
            " 0.         0.         0.         0.         0.3372549  0.99215686\n",
            " 0.88235294 0.         0.         0.         0.         0.\n",
            " 0.         0.44705882 0.93333333 0.99215686 0.63529412 0.\n",
            " 0.         0.         0.         0.         0.         0.\n",
            " 0.         0.         0.         0.         0.         0.\n",
            " 0.         0.         0.33333333 0.98823529 0.97647059 0.57254902\n",
            " 0.18823529 0.11372549 0.33333333 0.69803922 0.88235294 0.99215686\n",
            " 0.8745098  0.65490196 0.21960784 0.         0.         0.\n",
            " 0.         0.         0.         0.         0.         0.\n",
            " 0.         0.         0.         0.         0.         0.\n",
            " 0.33333333 0.98823529 0.98823529 0.98823529 0.89803922 0.84313725\n",
            " 0.98823529 0.98823529 0.98823529 0.76862745 0.50980392 0.\n",
            " 0.         0.         0.         0.         0.         0.\n",
            " 0.         0.         0.         0.         0.         0.\n",
            " 0.         0.         0.         0.         0.10980392 0.78039216\n",
            " 0.98823529 0.98823529 0.99215686 0.98823529 0.98823529 0.91372549\n",
            " 0.56862745 0.         0.         0.         0.         0.\n",
            " 0.         0.         0.         0.         0.         0.\n",
            " 0.         0.         0.         0.         0.         0.\n",
            " 0.         0.         0.         0.09803922 0.50196078 0.98823529\n",
            " 0.99215686 0.98823529 0.55294118 0.14509804 0.         0.\n",
            " 0.         0.         0.         0.         0.         0.\n",
            " 0.         0.         0.         0.         0.         0.\n",
            " 0.         0.         0.         0.         0.         0.\n",
            " 0.         0.         0.         0.         0.         0.\n",
            " 0.         0.         0.         0.         0.         0.\n",
            " 0.         0.         0.         0.         0.         0.\n",
            " 0.         0.         0.         0.         0.         0.\n",
            " 0.         0.         0.         0.         0.         0.\n",
            " 0.         0.         0.         0.         0.         0.\n",
            " 0.         0.         0.         0.         0.         0.\n",
            " 0.         0.         0.         0.         0.         0.\n",
            " 0.         0.         0.         0.         0.         0.\n",
            " 0.         0.         0.         0.         0.         0.\n",
            " 0.         0.         0.         0.         0.         0.\n",
            " 0.         0.         0.         0.         0.         0.\n",
            " 0.         0.         0.         0.         0.         0.\n",
            " 0.         0.         0.         0.         0.         0.\n",
            " 0.         0.         0.         0.         0.         0.\n",
            " 0.         0.         0.         0.         0.         0.\n",
            " 0.         0.         0.         0.         0.         0.\n",
            " 0.         0.         0.         0.        ]\n"
          ]
        }
      ],
      "source": [
        "print(data[1])"
      ],
      "metadata": {
        "ExecuteTime": {
          "end_time": "2025-01-28T00:07:06.884381Z",
          "start_time": "2025-01-28T00:07:06.874653Z"
        },
        "id": "87081ed1b7df6d92",
        "outputId": "90a2d425-1125-477e-b2b8-74d210d32e36"
      },
      "id": "87081ed1b7df6d92",
      "execution_count": null
    },
    {
      "cell_type": "code",
      "outputs": [
        {
          "name": "stdout",
          "output_type": "stream",
          "text": [
            "Iteration 1 (E-step), Objective Function J: 5760108.875001922\n",
            "Iteration 1 (M-step), Objective Function J: 3390782.9893569555\n",
            "Iteration 2 (E-step), Objective Function J: 3283140.2034430513\n",
            "Iteration 2 (M-step), Objective Function J: 3214890.5095032346\n",
            "Iteration 3 (E-step), Objective Function J: 3183235.4752597953\n",
            "Iteration 3 (M-step), Objective Function J: 3162499.897672526\n",
            "Iteration 4 (E-step), Objective Function J: 3146678.531293525\n",
            "Iteration 4 (M-step), Objective Function J: 3131764.1825346327\n",
            "Iteration 5 (E-step), Objective Function J: 3118478.170900364\n",
            "Iteration 5 (M-step), Objective Function J: 3105396.5228889287\n",
            "Iteration 6 (E-step), Objective Function J: 3094932.883492146\n",
            "Iteration 6 (M-step), Objective Function J: 3086532.7163389493\n",
            "Iteration 7 (E-step), Objective Function J: 3081304.5110710156\n",
            "Iteration 7 (M-step), Objective Function J: 3077538.3769799634\n",
            "Iteration 8 (E-step), Objective Function J: 3074808.0826217574\n",
            "Iteration 8 (M-step), Objective Function J: 3072469.4647878692\n",
            "Iteration 9 (E-step), Objective Function J: 3070513.6506229686\n",
            "Iteration 9 (M-step), Objective Function J: 3068770.365425344\n",
            "Iteration 10 (E-step), Objective Function J: 3067182.0765258623\n",
            "Iteration 10 (M-step), Objective Function J: 3065725.4344519847\n"
          ]
        }
      ],
      "source": [
        "# Calling K means K=5\n",
        "k = 5\n",
        "max_iter = 10\n",
        "centroids, memberships, J_values = kmeans(data, k, max_iter)"
      ],
      "metadata": {
        "ExecuteTime": {
          "end_time": "2025-01-28T00:07:10.327346Z",
          "start_time": "2025-01-28T00:07:08.406154Z"
        },
        "id": "efc0869ede33662f",
        "outputId": "ffdbde1a-a52c-4e4a-d57f-5da55e9663dd"
      },
      "id": "efc0869ede33662f",
      "execution_count": null
    },
    {
      "cell_type": "code",
      "execution_count": null,
      "id": "initial_id",
      "metadata": {
        "collapsed": true,
        "ExecuteTime": {
          "end_time": "2025-01-28T00:07:18.748826Z",
          "start_time": "2025-01-28T00:07:16.901312Z"
        },
        "id": "initial_id",
        "outputId": "90e1610e-5e5b-4c7d-ab89-e674e07cf135"
      },
      "outputs": [
        {
          "name": "stdout",
          "output_type": "stream",
          "text": [
            "Iteration 1 (E-step), Objective Function J: 4508418.612010767\n",
            "Iteration 1 (M-step), Objective Function J: 2840115.117477757\n",
            "Iteration 2 (E-step), Objective Function J: 2699624.9908458497\n",
            "Iteration 2 (M-step), Objective Function J: 2623393.778320279\n",
            "Iteration 3 (E-step), Objective Function J: 2581401.5281632277\n",
            "Iteration 3 (M-step), Objective Function J: 2551951.121088409\n",
            "Iteration 4 (E-step), Objective Function J: 2533682.039337663\n",
            "Iteration 4 (M-step), Objective Function J: 2521760.714705537\n",
            "Iteration 5 (E-step), Objective Function J: 2514138.596529358\n",
            "Iteration 5 (M-step), Objective Function J: 2508363.8102459903\n",
            "Iteration 6 (E-step), Objective Function J: 2504058.7351279487\n",
            "Iteration 6 (M-step), Objective Function J: 2500442.46244785\n",
            "Iteration 7 (E-step), Objective Function J: 2497362.4613309023\n",
            "Iteration 7 (M-step), Objective Function J: 2494487.825513134\n",
            "Iteration 8 (E-step), Objective Function J: 2491936.726196248\n",
            "Iteration 8 (M-step), Objective Function J: 2489520.7883204618\n",
            "Iteration 9 (E-step), Objective Function J: 2487410.3666954194\n",
            "Iteration 9 (M-step), Objective Function J: 2485489.284354817\n",
            "Iteration 10 (E-step), Objective Function J: 2483815.333401886\n",
            "Iteration 10 (M-step), Objective Function J: 2482250.688254544\n"
          ]
        }
      ],
      "source": [
        "# calling k means k=20\n",
        "k = 20\n",
        "max_iter = 10\n",
        "centroids, memberships,J_values = kmeans(data, k, max_iter)\n"
      ]
    },
    {
      "cell_type": "code",
      "outputs": [
        {
          "name": "stdout",
          "output_type": "stream",
          "text": [
            "Iteration 1 (E-step), Objective Function J: 5120891.04139946\n",
            "Iteration 1 (M-step), Objective Function J: 3087420.501402538\n",
            "Iteration 2 (E-step), Objective Function J: 2950927.376023708\n",
            "Iteration 2 (M-step), Objective Function J: 2869625.747947105\n",
            "Iteration 3 (E-step), Objective Function J: 2831456.3746766816\n",
            "Iteration 3 (M-step), Objective Function J: 2809540.8607475697\n",
            "Iteration 4 (E-step), Objective Function J: 2798441.6962375813\n",
            "Iteration 4 (M-step), Objective Function J: 2792236.0314630615\n",
            "Iteration 5 (E-step), Objective Function J: 2788555.2622218677\n",
            "Iteration 5 (M-step), Objective Function J: 2785997.6087895078\n",
            "Iteration 6 (E-step), Objective Function J: 2784125.9819741175\n",
            "Iteration 6 (M-step), Objective Function J: 2782637.1165767605\n",
            "Iteration 7 (E-step), Objective Function J: 2781269.427014939\n",
            "Iteration 7 (M-step), Objective Function J: 2779708.1123856446\n",
            "Iteration 8 (E-step), Objective Function J: 2777873.682968295\n",
            "Iteration 8 (M-step), Objective Function J: 2775425.3485100907\n",
            "Iteration 9 (E-step), Objective Function J: 2772574.27619011\n",
            "Iteration 9 (M-step), Objective Function J: 2769323.268435092\n",
            "Iteration 10 (E-step), Objective Function J: 2766892.9862482036\n",
            "Iteration 10 (M-step), Objective Function J: 2765083.0099279596\n"
          ]
        }
      ],
      "source": [
        "#Calling k means\n",
        "k = 10\n",
        "max_iter = 10\n",
        "centroids, memberships, J_values = kmeans(data, k, max_iter)"
      ],
      "metadata": {
        "ExecuteTime": {
          "end_time": "2025-01-28T00:07:24.251672Z",
          "start_time": "2025-01-28T00:07:22.298214Z"
        },
        "id": "c0c2ebad162d1b4",
        "outputId": "a5945b0f-32b1-4bff-ce01-38b3b03b11cd"
      },
      "id": "c0c2ebad162d1b4",
      "execution_count": null
    },
    {
      "cell_type": "code",
      "outputs": [],
      "source": [
        "#retrieving clusters with k=10\n",
        "clusters = np.argmax(memberships, axis=1)"
      ],
      "metadata": {
        "ExecuteTime": {
          "end_time": "2025-01-28T00:07:27.815764Z",
          "start_time": "2025-01-28T00:07:27.812123Z"
        },
        "id": "5854bc935c96bce4"
      },
      "id": "5854bc935c96bce4",
      "execution_count": null
    },
    {
      "cell_type": "code",
      "outputs": [
        {
          "name": "stdout",
          "output_type": "stream",
          "text": [
            "(70000,)\n"
          ]
        }
      ],
      "source": [
        "print(clusters.shape)"
      ],
      "metadata": {
        "ExecuteTime": {
          "end_time": "2025-01-28T00:07:28.930280Z",
          "start_time": "2025-01-28T00:07:28.926023Z"
        },
        "id": "10302d6f07370154",
        "outputId": "2c7749e2-7d5d-425d-8e3a-3d60cd0f9346"
      },
      "id": "10302d6f07370154",
      "execution_count": null
    },
    {
      "cell_type": "code",
      "outputs": [],
      "source": [
        "# Function for Purity\n",
        "# Purity measures how well the clusters align with the true labels\n",
        "from collections import Counter\n",
        "\n",
        "def purity(clusters, labels):\n",
        "    correct_labels = 0  # Initialize a counter to keep track of correctly assigned points\n",
        "    n_clusters = len(np.unique(clusters))  # Total number of clusters\n",
        "\n",
        "    for cluster in range(n_clusters):\n",
        "        indices = np.where(clusters == cluster)[0]  # Get the indices of points in this cluster\n",
        "        cluster_labels = labels[indices]  # Get the true labels for the points in this cluster\n",
        "        most_freq = Counter(cluster_labels).most_common(1)[0][1]  # Find the most frequent label in the cluster\n",
        "        correct_labels += most_freq  # Add the count of correct predictions for this cluster\n",
        "\n",
        "    return correct_labels / len(labels)  # Compute and return purity as the fraction of correct predictions\n",
        "\n",
        "\n"
      ],
      "metadata": {
        "ExecuteTime": {
          "end_time": "2025-01-28T00:08:18.187126Z",
          "start_time": "2025-01-28T00:08:18.178489Z"
        },
        "id": "8ecbb6a146d096fa"
      },
      "id": "8ecbb6a146d096fa",
      "execution_count": null
    },
    {
      "cell_type": "code",
      "outputs": [
        {
          "name": "stdout",
          "output_type": "stream",
          "text": [
            "Purity: 0.6017428571428571\n"
          ]
        }
      ],
      "source": [
        "mnist_purity = purity(clusters, y)\n",
        "print(f\"Purity: {mnist_purity}\")\n"
      ],
      "metadata": {
        "ExecuteTime": {
          "end_time": "2025-01-28T00:08:20.595605Z",
          "start_time": "2025-01-28T00:08:20.583852Z"
        },
        "id": "ee3c6fe9ed52c90e",
        "outputId": "f6b4c8b3-64f2-4970-cc82-24e1dd2c71d2"
      },
      "id": "ee3c6fe9ed52c90e",
      "execution_count": null
    },
    {
      "cell_type": "code",
      "outputs": [],
      "source": [
        "# Function for Gini Index\n",
        "# The Gini index measures the heterogeneity of labels within clusters\n",
        "\n",
        "def gini_index(clusters, Y):\n",
        "    n_samples = len(Y)  # Total number of samples in the dataset\n",
        "    n_clusters = len(np.unique(clusters))  # Total number of unique clusters\n",
        "    total_gini = 0  # Initialize the weighted Gini index accumulator\n",
        "\n",
        "    for cluster in range(n_clusters):\n",
        "        # Get indices of data points assigned to the current cluster\n",
        "        indices = np.where(clusters == cluster)[0]\n",
        "        cluster_labels = Y[indices]  # Get the true labels of the points in this cluster\n",
        "\n",
        "        # Compute the total number of points in the cluster\n",
        "        total_points = len(cluster_labels)\n",
        "        if total_points == 0:\n",
        "            continue  # Skip the cluster if it's empty\n",
        "\n",
        "        # Count the occurrences of each label in the cluster\n",
        "        label_counts = Counter(cluster_labels)\n",
        "        # Compute the proportions of each label\n",
        "        proportions = np.array([count / total_points for count in label_counts.values()])\n",
        "\n",
        "        # Calculate the Gini index for this cluster\n",
        "        gini = 1 - np.sum(proportions**2)  # Gini index formula: 1 - sum(p_j^2)\n",
        "        total_gini += total_points * gini  # Weight the Gini index by cluster size\n",
        "\n",
        "    # Calculate the global Gini index by averaging over all clusters\n",
        "    global_gini = total_gini / n_samples\n",
        "    return global_gini\n",
        "\n",
        "\n"
      ],
      "metadata": {
        "ExecuteTime": {
          "end_time": "2025-01-28T00:09:39.116976Z",
          "start_time": "2025-01-28T00:09:39.110312Z"
        },
        "id": "809406455c4ad2d7"
      },
      "id": "809406455c4ad2d7",
      "execution_count": null
    },
    {
      "cell_type": "code",
      "outputs": [
        {
          "name": "stdout",
          "output_type": "stream",
          "text": [
            "Gini: 0.5201990924664515\n"
          ]
        }
      ],
      "source": [
        "#gini computation\n",
        "gini_mnist = gini_index(clusters, y)\n",
        "print(f\"Gini: {gini_mnist}\")"
      ],
      "metadata": {
        "ExecuteTime": {
          "end_time": "2025-01-28T00:09:40.040541Z",
          "start_time": "2025-01-28T00:09:40.029962Z"
        },
        "id": "5475224aadc8a81d",
        "outputId": "b0d1f913-7379-46fa-8312-4e2c56c40e5b"
      },
      "id": "5475224aadc8a81d",
      "execution_count": null
    },
    {
      "cell_type": "code",
      "outputs": [],
      "source": [],
      "metadata": {
        "id": "1c822ea65b6a2a6b"
      },
      "id": "1c822ea65b6a2a6b",
      "execution_count": null
    }
  ],
  "metadata": {
    "kernelspec": {
      "display_name": "Python 3",
      "language": "python",
      "name": "python3"
    },
    "language_info": {
      "codemirror_mode": {
        "name": "ipython",
        "version": 2
      },
      "file_extension": ".py",
      "mimetype": "text/x-python",
      "name": "python",
      "nbconvert_exporter": "python",
      "pygments_lexer": "ipython2",
      "version": "2.7.6"
    },
    "colab": {
      "provenance": []
    }
  },
  "nbformat": 4,
  "nbformat_minor": 5
}