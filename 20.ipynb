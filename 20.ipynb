{
 "cells": [
  {
   "cell_type": "code",
   "outputs": [],
   "source": [
    "from sklearn.datasets import fetch_20newsgroups\n",
    "from sklearn.model_selection import train_test_split\n",
    "from sklearn.feature_extraction.text import TfidfVectorizer, CountVectorizer\n",
    "import numpy as np"
   ],
   "metadata": {
    "collapsed": false,
    "ExecuteTime": {
     "end_time": "2025-01-20T19:57:18.269494Z",
     "start_time": "2025-01-20T19:57:18.256905Z"
    }
   },
   "id": "c282fcd44bbf713e",
   "execution_count": 18
  },
  {
   "cell_type": "code",
   "outputs": [],
   "source": [
    "# Retrieving the dataset\n",
    "categories = [\"alt.atheism\", \"sci.med\", \"sci.electronics\", \"comp.graphics\", \"talk.politics.guns\", \"sci.crypt\"]\n",
    "data = fetch_20newsgroups(subset='all', categories=categories, remove=('headers', 'footers', 'quotes'))"
   ],
   "metadata": {
    "collapsed": false,
    "ExecuteTime": {
     "end_time": "2025-01-20T19:57:30.974375Z",
     "start_time": "2025-01-20T19:57:29.785517Z"
    }
   },
   "id": "216d791a3fd607ab",
   "execution_count": 19
  },
  {
   "cell_type": "code",
   "outputs": [],
   "source": [
    "# Splitting the data into training and test sets\n",
    "X_train, X_test, y_train, y_test = train_test_split(data.data, data.target, test_size=0.2, random_state=42)"
   ],
   "metadata": {
    "collapsed": false,
    "ExecuteTime": {
     "end_time": "2025-01-20T19:57:34.991594Z",
     "start_time": "2025-01-20T19:57:34.968909Z"
    }
   },
   "id": "ce0a2ccefba571f0",
   "execution_count": 20
  },
  {
   "cell_type": "code",
   "outputs": [],
   "source": [
    "# Vectorizing the data: Converting the words into numbers using TF-IDF and CountVectorizer\n",
    "# TF-IDF Vectorizeassigns a weight to each word based on its frequency\n",
    "tfidf_vectorizer = TfidfVectorizer(stop_words='english', max_features=30000)\n",
    "\n",
    "# Count Vectorizer counts the occurrence of each word\n",
    "count_vectorizer = CountVectorizer(stop_words='english', max_features=30000)"
   ],
   "metadata": {
    "collapsed": false,
    "ExecuteTime": {
     "end_time": "2025-01-20T19:59:31.629741Z",
     "start_time": "2025-01-20T19:59:31.597433Z"
    }
   },
   "id": "bf23f08c7e4cad5c",
   "execution_count": 21
  },
  {
   "cell_type": "markdown",
   "source": [],
   "metadata": {
    "collapsed": false
   },
   "id": "b295715d8c51421c"
  },
  {
   "cell_type": "code",
   "outputs": [
    {
     "name": "stdout",
     "output_type": "stream",
     "text": [
      "Train TF-IDF matrix shape: (4517, 30000)\n",
      "Train CountVectorizer matrix shape: (4517, 30000)\n",
      "Test TF-IDF matrix shape: (1130, 30000)\n",
      "Test CountVectorizer matrix shape: (1130, 30000)\n"
     ]
    }
   ],
   "source": [
    "# Fit the TF-IDF and CountVectorizer on the training data and convert them into arrays\n",
    "# fit() >>: Adjusts the model to the dataset by identifying the vocabulary (in the case of `CountVectorizer`) \n",
    "# or calculating the weights (in the case of `TfidfVectorizer`).\n",
    "# transform()>> Transforms the dataset into a numerical representation (feature vectors).\n",
    "# toarray()>> Converts the sparse representation into a dense matrix, which is easier to handle \n",
    "\n",
    "train_tfidf_matrix = tfidf_vectorizer.fit_transform(X_train).toarray()  # Transform train data using TF-IDF\n",
    "train_tf_matrix = count_vectorizer.fit_transform(X_train).toarray()  # Transform train data using CountVectorizer\n",
    "\n",
    "# Transform the test data using the vocabulary learned from the training data\n",
    "test_tfidf_matrix = tfidf_vectorizer.transform(X_test).toarray()  # Transform test data using TF-IDF\n",
    "test_tf_matrix = count_vectorizer.transform(X_test).toarray()  # Transform test data using CountVectorizer\n",
    "\n",
    "# Checking the shapes \n",
    "print(f\"Train TF-IDF matrix shape: {train_tfidf_matrix.shape}\")\n",
    "print(f\"Train CountVectorizer matrix shape: {train_tf_matrix.shape}\")\n",
    "print(f\"Test TF-IDF matrix shape: {test_tfidf_matrix.shape}\")\n",
    "print(f\"Test CountVectorizer matrix shape: {test_tf_matrix.shape}\")"
   ],
   "metadata": {
    "collapsed": false,
    "ExecuteTime": {
     "end_time": "2025-01-20T20:02:18.401433Z",
     "start_time": "2025-01-20T20:02:17.367935Z"
    }
   },
   "id": "98a9296bfc929148",
   "execution_count": 22
  },
  {
   "cell_type": "code",
   "outputs": [],
   "source": [
    "# Cosine similarity calculation on the training data\n",
    "from sklearn.metrics.pairwise import cosine_similarity\n",
    "\n",
    "# Compute cosine similarity  training documents using TF and TFIDF\n",
    "train_tf_cosine_sim = cosine_similarity(train_tf_matrix, train_tf_matrix) \n",
    "train_tfidf_cosine_sim = cosine_similarity(train_tfidf_matrix, train_tfidf_matrix)  \n",
    "\n",
    "# Cosine similarity calculation on the test data with respect to the training data\n",
    "test_tf_cosine_sim = cosine_similarity(test_tf_matrix, train_tf_matrix)  # Test cosine similarity with CountVectorizer\n",
    "test_tfidf_cosine_sim = cosine_similarity(test_tfidf_matrix, train_tfidf_matrix)  # Test cosine similarity with TF-IDF"
   ],
   "metadata": {
    "collapsed": false
   },
   "id": "763a406cca404ce9",
   "execution_count": 0
  },
  {
   "cell_type": "code",
   "outputs": [
    {
     "name": "stdout",
     "output_type": "stream",
     "text": [
      "Training Accuracy using Cosine Similarity: 0.90\n"
     ]
    }
   ],
   "source": [
    "# Calculating accuracy on training data using cosine similarity and TF-IDF vectors\n",
    "k = 7  # NUMber of neighbors to be considered\n",
    "training_correct = 0\n",
    "for i in range(0, len(y_train)):  # Loop over each document in the training set \n",
    "    similar_index = np.argsort(train_tfidf_cosine_sim[i])[\n",
    "                    :-(k + 1):-1].tolist()  # Get the indices of the top k similar documents\n",
    "    predicted_labels = y_train[similar_index].tolist()  # Get the labels of the k nearest neighbors\n",
    "    predicted_label = max(predicted_labels, key=predicted_labels.count)  # Majority vote to predict the class\n",
    "    actual_label = y_train[i]  # Actual label of the current document\n",
    "    if predicted_label == actual_label:  # Check if the prediction was correct\n",
    "        training_correct += 1  # Increment the correct prediction count\n",
    "training_accuracy = training_correct / len(y_train)  # Calculate training accuracy\n",
    "print(f\"Training Accuracy using Cosine Similarity: {training_accuracy:.2f}\")"
   ],
   "metadata": {
    "collapsed": false,
    "ExecuteTime": {
     "end_time": "2025-01-20T20:04:30.094903Z",
     "start_time": "2025-01-20T20:04:29.282531Z"
    }
   },
   "id": "a0b574a85e78227b",
   "execution_count": 25
  },
  {
   "cell_type": "code",
   "outputs": [
    {
     "name": "stdout",
     "output_type": "stream",
     "text": [
      "Test Accuracy using Cosine Similarity: 0.83\n"
     ]
    }
   ],
   "source": [
    "# Calculating accuracy on test data using cosine similarity and TF-IDF vectors\n",
    "test_correct = 0\n",
    "for i in range(0, len(y_test)):  # Loop over each document in the test set (use len(y_test) instead of data)\n",
    "    similar_index = np.argsort(test_tfidf_cosine_sim[i])[\n",
    "                    :-(k + 1):-1].tolist()  # Get the indices of the top k similar documents\n",
    "    predicted_labels = y_train[similar_index].tolist()  # Get the labels of the k nearest neighbors\n",
    "    predicted_label = max(predicted_labels, key=predicted_labels.count)  # Majority vote to predict the class\n",
    "    actual_label = y_test[i]  # Actual label of the current document\n",
    "    if predicted_label == actual_label:  # Check if the prediction was correct\n",
    "        test_correct += 1  # Increment the correct prediction count\n",
    "test_accuracy = test_correct / len(y_test)  # Calculate test accuracy\n",
    "print(f\"Test Accuracy using Cosine Similarity: {test_accuracy:.2f}\")"
   ],
   "metadata": {
    "collapsed": false,
    "ExecuteTime": {
     "end_time": "2025-01-20T20:04:59.639976Z",
     "start_time": "2025-01-20T20:04:59.360764Z"
    }
   },
   "id": "b931764017d0a1d8",
   "execution_count": 26
  },
  {
   "cell_type": "code",
   "outputs": [],
   "source": [],
   "metadata": {
    "collapsed": false
   },
   "id": "14c64bd197f8b00e"
  }
 ],
 "metadata": {
  "kernelspec": {
   "display_name": "Python 3",
   "language": "python",
   "name": "python3"
  },
  "language_info": {
   "codemirror_mode": {
    "name": "ipython",
    "version": 2
   },
   "file_extension": ".py",
   "mimetype": "text/x-python",
   "name": "python",
   "nbconvert_exporter": "python",
   "pygments_lexer": "ipython2",
   "version": "2.7.6"
  }
 },
 "nbformat": 4,
 "nbformat_minor": 5
}
