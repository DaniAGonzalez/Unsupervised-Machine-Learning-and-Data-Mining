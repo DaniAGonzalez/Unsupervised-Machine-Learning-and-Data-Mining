{
  "nbformat": 4,
  "nbformat_minor": 0,
  "metadata": {
    "colab": {
      "provenance": []
    },
    "kernelspec": {
      "name": "python3",
      "display_name": "Python 3"
    },
    "language_info": {
      "name": "python"
    }
  },
  "cells": [
    {
      "cell_type": "markdown",
      "source": [
        "The code estimates the **mixing probabilities** (\\(\\pi_A, \\pi_B, \\pi_C\\)) and the **bias probabilities** (\\(p_A, p_B, p_C\\)) of three unknown coins using the Expectation-Maximization (EM).\n",
        "The input: dataset where each row represents a session of 20 coin flips, and the goal is to determine which coin was used in each session and the probability of heads for each coin."
      ],
      "metadata": {
        "id": "Bzt4EarDZIMF"
      }
    },
    {
      "cell_type": "code",
      "source": [
        "import numpy as np\n",
        "from scipy.stats import binom"
      ],
      "metadata": {
        "id": "tTlIHQS9XiyS"
      },
      "execution_count": null,
      "outputs": []
    },
    {
      "cell_type": "code",
      "source": [
        "def initialize_parameters(n_coins, seed=42):\n",
        "    np.random.seed(seed)\n",
        "    p = np.random.rand(n_coins)  # Prob of each coin initialized random\n",
        "    pi = np.ones(n_coins) / n_coins  # Pr of head random initialized\n",
        "    return p, pi"
      ],
      "metadata": {
        "id": "BYq2XBjCebjt"
      },
      "execution_count": null,
      "outputs": []
    },
    {
      "cell_type": "code",
      "source": [
        "#E-step : computation of the responsabilities matrix for each coin in each session (Pr of each coing of being used in sessions)\n",
        "def expectation_step(X, D, p, pi): # X = number of sessions #D: number of flliping coins in each session (20)\n",
        "    N = len(X)\n",
        "    responsibilities = np.zeros((N, len(p)))\n",
        "    for j in range(len(p)): #each coin is J\n",
        "        responsibilities[:, j] = pi[j] * binom.pmf(X, D, p[j]) #Computation of geting head en D flliping using the j coin according to the binomial distribution\n",
        "      #given the pi(j (Bayes))\n",
        "    responsibilities /= responsibilities.sum(axis=1, keepdims=True) #Normalizing to sum 1\n",
        "    return responsibilities"
      ],
      "metadata": {
        "id": "j3ORMKhieeX4"
      },
      "execution_count": null,
      "outputs": []
    },
    {
      "cell_type": "code",
      "source": [
        "#M step\n",
        "def maximization_step(X, D, responsibilities):\n",
        "  #updating pi and pr with the responsabilities\n",
        "    pi_new = responsibilities.mean(axis=0)\n",
        "    p_new = (responsibilities.T @ X) / (responsibilities.T @ np.full(len(X), D))\n",
        "    return p_new, pi_new"
      ],
      "metadata": {
        "id": "IrqZddGkehZh"
      },
      "execution_count": null,
      "outputs": []
    },
    {
      "cell_type": "code",
      "source": [
        "def expectation_maximization(X, n_coins=3, max_iter=100, tol=1e-6):\n",
        "    N = len(X)  # number of sessions\n",
        "    D = 20  # how many times I flip the coin per session\n",
        "\n",
        "    p, pi = initialize_parameters(n_coins)\n",
        "\n",
        "    for iteration in range(max_iter):\n",
        "        responsibilities = expectation_step(X, D, p, pi)\n",
        "        p_new, pi_new = maximization_step(X, D, responsibilities)\n",
        "\n",
        "        if np.linalg.norm(p_new - p) < tol and np.linalg.norm(pi_new - pi) < tol:\n",
        "            break\n",
        "\n",
        "        pi, p = pi_new, p_new\n",
        "\n",
        "    return pi, p"
      ],
      "metadata": {
        "id": "yNMvKQ58enSU"
      },
      "execution_count": null,
      "outputs": []
    },
    {
      "cell_type": "code",
      "source": [
        "# loading data\n",
        "def load_data(my_file):\n",
        "    with open(my_file, 'r') as f:\n",
        "        data = [[int(bit) for bit in line.split()] for line in f]\n",
        "    return np.sum(data, axis=1)  # getting head count in each flipping\n",
        "\n"
      ],
      "metadata": {
        "id": "9lPjtpnwW7OP"
      },
      "execution_count": null,
      "outputs": []
    },
    {
      "cell_type": "code",
      "source": [
        "\n",
        "my_file= \"coin_flips_outcome.txt\"\n",
        "X = load_data(my_file)\n",
        "pi_est, p_est = expectation_maximization(X)\n",
        "\n",
        "print(\"Prob estimation of the mixture (pi_A, pi_B, pi_C):\", pi_est) #Prob of each coin of being used\n",
        "print(\"Bias estimation (p_A, p_B, p_C):\", p_est) #Prob of getting head using according to the coin"
      ],
      "metadata": {
        "colab": {
          "base_uri": "https://localhost:8080/"
        },
        "id": "Ah2AJ207XM1s",
        "outputId": "94a4393d-68ae-46d8-b652-d27f34b6ac23"
      },
      "execution_count": null,
      "outputs": [
        {
          "output_type": "stream",
          "name": "stdout",
          "text": [
            "Prob estimation of the mixture (pi_A, pi_B, pi_C): [0.30681524 0.1785576  0.51462717]\n",
            "Bias estimation (p_A, p_B, p_C): [0.23691934 0.93172856 0.61003838]\n"
          ]
        }
      ]
    }
  ]
}