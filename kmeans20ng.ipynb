{
  "nbformat": 4,
  "nbformat_minor": 0,
  "metadata": {
    "colab": {
      "provenance": []
    },
    "kernelspec": {
      "name": "python3",
      "display_name": "Python 3"
    },
    "language_info": {
      "name": "python"
    }
  },
  "cells": [
    {
      "cell_type": "code",
      "execution_count": null,
      "metadata": {
        "id": "--RSo-fFV1Ei"
      },
      "outputs": [],
      "source": [
        "from sklearn.datasets import fetch_20newsgroups\n",
        "from sklearn.model_selection import train_test_split\n",
        "from sklearn.feature_extraction.text import TfidfVectorizer\n",
        "import numpy as np\n",
        "\n",
        "# Retrieve the dataset\n",
        "categories = [\"alt.atheism\", \"sci.med\", \"sci.electronics\", \"comp.graphics\", \"talk.politics.guns\", \"sci.crypt\"]\n",
        "data = fetch_20newsgroups(subset='all', categories=categories, remove=('headers', 'footers', 'quotes'))"
      ]
    },
    {
      "cell_type": "code",
      "source": [
        "#retrieving the data in the right format for the analysis\n",
        "\n",
        "x = data.data  # Text: just separation of the data information using the dot\n",
        "y = data.target  # labels: just retrievinig the labels information using the dot\n"
      ],
      "metadata": {
        "id": "BdQYiqN4WEDY"
      },
      "execution_count": null,
      "outputs": []
    },
    {
      "cell_type": "code",
      "source": [
        "print(x[1])"
      ],
      "metadata": {
        "colab": {
          "base_uri": "https://localhost:8080/"
        },
        "collapsed": true,
        "id": "kTVhmcdhWO1m",
        "outputId": "c0c37d70-5eb2-4a1f-8cd2-bea532c9cd70"
      },
      "execution_count": null,
      "outputs": [
        {
          "output_type": "stream",
          "name": "stdout",
          "text": [
            "\n",
            "\n",
            "That wasn't my point. My point is that your implied position about the \"Waco\n",
            "Massacre\" is an assertion cum political position. According to a CNN poll,\n",
            "about 86% of Americans think the FBI acted properly, and a majority think\n",
            "they should have done it (the tear gas) a lot sooner. A large majority also\n",
            "believe the FBI was not at all responsible for the death of the victims,\n",
            "Koresh was. (Let's avoid the kind of fruitless argument of the sort If A\n",
            "hadn't X'd, then B might not have Y'd....)\n",
            "\n",
            "What you call the \"Big Brother Chip\" is right now a proposal under\n",
            "discussion, and it is not yet clear that strong crypto is going to be\n",
            "banned.\n",
            "\n",
            "Therefore neither justifies \"any tactic is fair.\" Thus the statement is\n",
            "nonsense. It is pernicious, because \"any tactic\" can lead to damaging\n",
            "others.\n",
            "\n",
            "As I see you know from the tone of your reply, there's nothing personal\n",
            "intended.\n",
            "\n",
            "David\n"
          ]
        }
      ]
    },
    {
      "cell_type": "code",
      "source": [
        "# vectorizing the data (converting words into numerical features)\n",
        "vectorizer = TfidfVectorizer(stop_words='english', max_features = 30000)\n",
        "x_tfid= vectorizer.fit_transform(x).toarray()\n",
        "print(f\"x_tfid shape: {x_tfid.shape}\")\n"
      ],
      "metadata": {
        "colab": {
          "base_uri": "https://localhost:8080/"
        },
        "id": "5ugiNTjWWtKB",
        "outputId": "cff6ba3d-7081-4742-fb41-9cf7dfa4d011"
      },
      "execution_count": null,
      "outputs": [
        {
          "output_type": "stream",
          "name": "stdout",
          "text": [
            "x_tfid shape: (5647, 30000)\n"
          ]
        }
      ]
    },
    {
      "cell_type": "code",
      "source": [
        "# Fn to remove documents with zero std (meaning no variability in the information)\n",
        "def remove_zero_std_doc(x,y):\n",
        "  #calculate the std across each instance/document\n",
        "  std_dev = np.std(x, axis=1) #considering all the roxws (axis =1) compute the std in x\n",
        "\n",
        "  #identify rows/documents with std equal to zero\n",
        "  non_zero_std_indices = np.where(std_dev != 0)[0]\n",
        "\n",
        "  #filter documents with std = 0\n",
        "  x_filtered = x[non_zero_std_indices]\n",
        "  y_filtered = y[non_zero_std_indices]\n",
        "\n",
        "  return x_filtered, y_filtered\n"
      ],
      "metadata": {
        "id": "WIB7MXIlL53T"
      },
      "execution_count": null,
      "outputs": []
    },
    {
      "cell_type": "code",
      "source": [
        "#Applying the filtered functions to the data\n",
        "x_filtered, y_filtered = remove_zero_std_doc(x_tfid, y)\n",
        "\n",
        "\n",
        "print(x_filtered.shape)\n",
        "print(y_filtered.shape)"
      ],
      "metadata": {
        "colab": {
          "base_uri": "https://localhost:8080/"
        },
        "id": "eu1Qi6YyPkXs",
        "outputId": "f728fcca-9aea-42eb-947e-5361d3b0e827"
      },
      "execution_count": null,
      "outputs": [
        {
          "output_type": "stream",
          "name": "stdout",
          "text": [
            "(5489, 30000)\n",
            "(5489,)\n"
          ]
        }
      ]
    },
    {
      "cell_type": "markdown",
      "source": [
        "KMEANS"
      ],
      "metadata": {
        "id": "MFMZI5MJRdz2"
      }
    },
    {
      "cell_type": "code",
      "source": [
        "# Init centroids\n",
        "def init_centroids(data, k):\n",
        "  \"\"\"Select k initial centroids randomly from the data\n",
        "  pARAM:dataset (n_samples, n_features); k; number of clusters\n",
        "  return centroids: initial centroids\n",
        "  \"\"\"\n",
        "  np.random.seed(42) #set random seed for reproducibility\n",
        "  return data[np.random.choice(data.shape[0], k, replace=False)] #random selection of k datapoints as centroids\n"
      ],
      "metadata": {
        "id": "fEV5O6e3Qr9T"
      },
      "execution_count": null,
      "outputs": []
    },
    {
      "cell_type": "code",
      "source": [
        "from sklearn.metrics.pairwise import cosine_similarity"
      ],
      "metadata": {
        "id": "Voh7YM1SUMn7"
      },
      "execution_count": null,
      "outputs": []
    },
    {
      "cell_type": "code",
      "source": [
        "# E-step: giving the centroids (u_k) compute the membership (pi_ik) for each datapoint\n",
        "def e_step (data, centroids):\n",
        "  #Distances computation with cosine similarity\n",
        "  similarity = cosine_similarity(data,centroids)\n",
        "\n",
        "  #Init a binary matrix with the same shape as similarity\n",
        "  memberships = np.zeros_like(similarity)\n",
        "\n",
        "  #assigning each datapoint to the closest cluster\n",
        "  memberships[np.arange(similarity.shape[0]), np.argmax(similarity, axis=1)] =1\n",
        "\n",
        "  return memberships"
      ],
      "metadata": {
        "id": "2jKFFLrqSVDc"
      },
      "execution_count": null,
      "outputs": []
    },
    {
      "cell_type": "code",
      "source": [
        "# Objective function\n",
        "def objective_function(data, centroids, memberships):\n",
        "  #COMPUtation of the cosine distance since the J function minimizes distances, not maximizes similarities\n",
        "  cosine_distances = 1 - cosine_similarity(data, centroids)\n",
        "\n",
        "  #Multiply distances by the memberships matrix and sum\n",
        "  j = np.sum(cosine_distances * memberships)\n",
        "\n",
        "  return j"
      ],
      "metadata": {
        "id": "j_i1EOr8Ulzk"
      },
      "execution_count": null,
      "outputs": []
    },
    {
      "cell_type": "code",
      "source": [
        "# m-step: giving the membershios pi_ik, compute the new u_k updating them\n",
        "def m_step(data,memberships):\n",
        "  #I got the sum per cluster for each membership and reshape to be able to do the dot product\n",
        "  cluster_sizes = np.sum(memberships, axis = 0).reshape(-1,1)\n",
        "\n",
        "  #epsilon value to avoid zero divisions if some column has zero values\n",
        "  cluster_sizes[cluster_sizes == 0] = 1e-10\n",
        "\n",
        "  return np.dot(memberships.T, data) / cluster_sizes #memberships.T*data has the size (k,30000) representing the centroids of the K clusters in the space of 30000 characteres\n",
        "  #each row of the resulting dot product matrix is a centroid"
      ],
      "metadata": {
        "id": "EiuTqJVSaM0M"
      },
      "execution_count": null,
      "outputs": []
    },
    {
      "cell_type": "code",
      "source": [
        "#KMEANS\n",
        "def kmeans(data, k, max_iter):\n",
        "  #init\n",
        "  centroids = init_centroids(data, k)\n",
        "\n",
        "  #Storing the J's values after each iteration\n",
        "  J_history = []\n",
        "\n",
        "  for iteration in range(max_iter):\n",
        "\n",
        "    #E-step\n",
        "    memberships = e_step(data, centroids)\n",
        "\n",
        "    #Objective function after e\n",
        "    J_e = objective_function(data, centroids, memberships)\n",
        "    J_history.append((iteration +1, 'E-step', J_e))\n",
        "    print(f\"Iteration {iteration + 1} (E-step), Objective Function J: {J_e}\")\n",
        "\n",
        "    #m-step: updating u_k\n",
        "    centroids = m_step(data, memberships)\n",
        "\n",
        "    # objective function after m\n",
        "    J_after = objective_function(data, centroids, memberships)\n",
        "    J_history.append((iteration + 1, 'M-step', J_after))\n",
        "    print(f\"Iteration {iteration + 1} (M-step), Objective Function J: {J_after}\")\n",
        "\n",
        "  # results\n",
        "  return centroids, memberships, J_history"
      ],
      "metadata": {
        "id": "uH0XgzjMbBv3"
      },
      "execution_count": null,
      "outputs": []
    },
    {
      "cell_type": "markdown",
      "source": [
        "Calling K means"
      ],
      "metadata": {
        "id": "R2NCbPuMdTks"
      }
    },
    {
      "cell_type": "code",
      "source": [
        "# K means k=5\n",
        "# Note: in iteration 20 there was no change in J so i set max_iter to 20\n",
        "k = 5\n",
        "max_iter = 20\n",
        "centroids_5, memberships_5, J_history_5 = kmeans(x_filtered, k, max_iter)"
      ],
      "metadata": {
        "colab": {
          "base_uri": "https://localhost:8080/"
        },
        "id": "9KkFaZ5WdTO4",
        "outputId": "55616452-1e75-43cd-ef69-f198d6395f0c"
      },
      "execution_count": null,
      "outputs": [
        {
          "output_type": "stream",
          "name": "stdout",
          "text": [
            "Iteration 1 (E-step), Objective Function J: 5299.534496727587\n",
            "Iteration 1 (M-step), Objective Function J: 4867.639585812889\n",
            "Iteration 2 (E-step), Objective Function J: 4845.903171061871\n",
            "Iteration 2 (M-step), Objective Function J: 4817.306306770699\n",
            "Iteration 3 (E-step), Objective Function J: 4807.299121669654\n",
            "Iteration 3 (M-step), Objective Function J: 4794.349126834223\n",
            "Iteration 4 (E-step), Objective Function J: 4791.011173721903\n",
            "Iteration 4 (M-step), Objective Function J: 4785.907367480945\n",
            "Iteration 5 (E-step), Objective Function J: 4784.786692757064\n",
            "Iteration 5 (M-step), Objective Function J: 4782.405044130991\n",
            "Iteration 6 (E-step), Objective Function J: 4781.876319867414\n",
            "Iteration 6 (M-step), Objective Function J: 4780.294221483591\n",
            "Iteration 7 (E-step), Objective Function J: 4779.845596773439\n",
            "Iteration 7 (M-step), Objective Function J: 4778.496980808092\n",
            "Iteration 8 (E-step), Objective Function J: 4777.878140052192\n",
            "Iteration 8 (M-step), Objective Function J: 4776.1287663074245\n",
            "Iteration 9 (E-step), Objective Function J: 4775.44069570956\n",
            "Iteration 9 (M-step), Objective Function J: 4774.073746032122\n",
            "Iteration 10 (E-step), Objective Function J: 4773.842728240765\n",
            "Iteration 10 (M-step), Objective Function J: 4773.142917287603\n",
            "Iteration 11 (E-step), Objective Function J: 4773.056759931714\n",
            "Iteration 11 (M-step), Objective Function J: 4772.617849546746\n",
            "Iteration 12 (E-step), Objective Function J: 4772.549657264673\n",
            "Iteration 12 (M-step), Objective Function J: 4772.188071071049\n",
            "Iteration 13 (E-step), Objective Function J: 4772.13425955134\n",
            "Iteration 13 (M-step), Objective Function J: 4771.837767318288\n",
            "Iteration 14 (E-step), Objective Function J: 4771.788375825314\n",
            "Iteration 14 (M-step), Objective Function J: 4771.47100656997\n",
            "Iteration 15 (E-step), Objective Function J: 4771.448939943003\n",
            "Iteration 15 (M-step), Objective Function J: 4771.2783578694425\n",
            "Iteration 16 (E-step), Objective Function J: 4771.247959500858\n",
            "Iteration 16 (M-step), Objective Function J: 4771.001001511065\n",
            "Iteration 17 (E-step), Objective Function J: 4770.955867806301\n",
            "Iteration 17 (M-step), Objective Function J: 4770.760084518168\n",
            "Iteration 18 (E-step), Objective Function J: 4770.733375808297\n",
            "Iteration 18 (M-step), Objective Function J: 4770.619510772526\n",
            "Iteration 19 (E-step), Objective Function J: 4770.6127962360915\n",
            "Iteration 19 (M-step), Objective Function J: 4770.521204689704\n",
            "Iteration 20 (E-step), Objective Function J: 4770.519814304748\n",
            "Iteration 20 (M-step), Objective Function J: 4770.475586918033\n"
          ]
        }
      ]
    },
    {
      "cell_type": "code",
      "source": [
        "# K means k=10\n",
        "k = 10\n",
        "max_iter = 20\n",
        "centroids_10, memberships_10, J_history_10 = kmeans(x_filtered, k, max_iter)"
      ],
      "metadata": {
        "colab": {
          "base_uri": "https://localhost:8080/"
        },
        "id": "33CxERhGe5MS",
        "outputId": "c63fb9d6-8600-44e9-d974-c487c7663b59"
      },
      "execution_count": null,
      "outputs": [
        {
          "output_type": "stream",
          "name": "stdout",
          "text": [
            "Iteration 1 (E-step), Objective Function J: 5241.976622464949\n",
            "Iteration 1 (M-step), Objective Function J: 4800.020986802601\n",
            "Iteration 2 (E-step), Objective Function J: 4767.203613175312\n",
            "Iteration 2 (M-step), Objective Function J: 4719.911523979472\n",
            "Iteration 3 (E-step), Objective Function J: 4705.631212880121\n",
            "Iteration 3 (M-step), Objective Function J: 4684.856055494491\n",
            "Iteration 4 (E-step), Objective Function J: 4680.3996163343645\n",
            "Iteration 4 (M-step), Objective Function J: 4672.191947372377\n",
            "Iteration 5 (E-step), Objective Function J: 4670.918520299231\n",
            "Iteration 5 (M-step), Objective Function J: 4667.750103250934\n",
            "Iteration 6 (E-step), Objective Function J: 4667.203949769289\n",
            "Iteration 6 (M-step), Objective Function J: 4665.076770628042\n",
            "Iteration 7 (E-step), Objective Function J: 4664.671001841251\n",
            "Iteration 7 (M-step), Objective Function J: 4663.041480578778\n",
            "Iteration 8 (E-step), Objective Function J: 4662.700554257115\n",
            "Iteration 8 (M-step), Objective Function J: 4661.199573892047\n",
            "Iteration 9 (E-step), Objective Function J: 4660.692129345262\n",
            "Iteration 9 (M-step), Objective Function J: 4659.095643213863\n",
            "Iteration 10 (E-step), Objective Function J: 4658.529144656289\n",
            "Iteration 10 (M-step), Objective Function J: 4656.113110043448\n",
            "Iteration 11 (E-step), Objective Function J: 4655.255325839112\n",
            "Iteration 11 (M-step), Objective Function J: 4652.249546637701\n",
            "Iteration 12 (E-step), Objective Function J: 4651.527002085139\n",
            "Iteration 12 (M-step), Objective Function J: 4649.021140704536\n",
            "Iteration 13 (E-step), Objective Function J: 4648.316872137976\n",
            "Iteration 13 (M-step), Objective Function J: 4645.962184652119\n",
            "Iteration 14 (E-step), Objective Function J: 4645.561995149506\n",
            "Iteration 14 (M-step), Objective Function J: 4643.928449118446\n",
            "Iteration 15 (E-step), Objective Function J: 4643.66567602982\n",
            "Iteration 15 (M-step), Objective Function J: 4642.457201951962\n",
            "Iteration 16 (E-step), Objective Function J: 4642.2599264500095\n",
            "Iteration 16 (M-step), Objective Function J: 4641.335645872647\n",
            "Iteration 17 (E-step), Objective Function J: 4641.227822664543\n",
            "Iteration 17 (M-step), Objective Function J: 4640.540211748165\n",
            "Iteration 18 (E-step), Objective Function J: 4640.476010558846\n",
            "Iteration 18 (M-step), Objective Function J: 4640.0020642502395\n",
            "Iteration 19 (E-step), Objective Function J: 4639.91680792412\n",
            "Iteration 19 (M-step), Objective Function J: 4639.435013894147\n",
            "Iteration 20 (E-step), Objective Function J: 4639.402447807097\n",
            "Iteration 20 (M-step), Objective Function J: 4639.095726198923\n"
          ]
        }
      ]
    },
    {
      "cell_type": "code",
      "source": [
        "# K means k=20\n",
        "k = 20\n",
        "max_iter = 20\n",
        "centroids_20, memberships_20, J_history_20 = kmeans(x_filtered, k, max_iter)"
      ],
      "metadata": {
        "colab": {
          "base_uri": "https://localhost:8080/"
        },
        "id": "19qeiyBdh2Sr",
        "outputId": "220fc8b3-272e-4207-ed89-4554028497b1"
      },
      "execution_count": null,
      "outputs": [
        {
          "output_type": "stream",
          "name": "stdout",
          "text": [
            "Iteration 1 (E-step), Objective Function J: 5178.697957174853\n",
            "Iteration 1 (M-step), Objective Function J: 4721.981066700662\n",
            "Iteration 2 (E-step), Objective Function J: 4687.899981943985\n",
            "Iteration 2 (M-step), Objective Function J: 4633.031120979629\n",
            "Iteration 3 (E-step), Objective Function J: 4615.370660845388\n",
            "Iteration 3 (M-step), Objective Function J: 4585.483208858279\n",
            "Iteration 4 (E-step), Objective Function J: 4578.576434969599\n",
            "Iteration 4 (M-step), Objective Function J: 4562.245032222249\n",
            "Iteration 5 (E-step), Objective Function J: 4559.282118497912\n",
            "Iteration 5 (M-step), Objective Function J: 4550.254621892907\n",
            "Iteration 6 (E-step), Objective Function J: 4548.966577301223\n",
            "Iteration 6 (M-step), Objective Function J: 4544.105561598023\n",
            "Iteration 7 (E-step), Objective Function J: 4543.403544922439\n",
            "Iteration 7 (M-step), Objective Function J: 4540.702470921031\n",
            "Iteration 8 (E-step), Objective Function J: 4540.484644326094\n",
            "Iteration 8 (M-step), Objective Function J: 4538.762964342882\n",
            "Iteration 9 (E-step), Objective Function J: 4538.590500784517\n",
            "Iteration 9 (M-step), Objective Function J: 4537.340664933252\n",
            "Iteration 10 (E-step), Objective Function J: 4537.2565488422915\n",
            "Iteration 10 (M-step), Objective Function J: 4536.481000118076\n",
            "Iteration 11 (E-step), Objective Function J: 4536.3958369898755\n",
            "Iteration 11 (M-step), Objective Function J: 4535.654349653995\n",
            "Iteration 12 (E-step), Objective Function J: 4535.615352631543\n",
            "Iteration 12 (M-step), Objective Function J: 4535.250104628074\n",
            "Iteration 13 (E-step), Objective Function J: 4535.225798302284\n",
            "Iteration 13 (M-step), Objective Function J: 4534.964511602359\n",
            "Iteration 14 (E-step), Objective Function J: 4534.881548334025\n",
            "Iteration 14 (M-step), Objective Function J: 4534.305219410145\n",
            "Iteration 15 (E-step), Objective Function J: 4534.0900385128225\n",
            "Iteration 15 (M-step), Objective Function J: 4533.6893022087825\n",
            "Iteration 16 (E-step), Objective Function J: 4533.672982901476\n",
            "Iteration 16 (M-step), Objective Function J: 4533.563222603943\n",
            "Iteration 17 (E-step), Objective Function J: 4533.561171588053\n",
            "Iteration 17 (M-step), Objective Function J: 4533.402420083401\n",
            "Iteration 18 (E-step), Objective Function J: 4533.396007332033\n",
            "Iteration 18 (M-step), Objective Function J: 4533.323772760873\n",
            "Iteration 19 (E-step), Objective Function J: 4533.320653716295\n",
            "Iteration 19 (M-step), Objective Function J: 4533.238862038606\n",
            "Iteration 20 (E-step), Objective Function J: 4533.238823501583\n",
            "Iteration 20 (M-step), Objective Function J: 4533.227131483179\n"
          ]
        }
      ]
    },
    {
      "cell_type": "code",
      "source": [
        "#retrieving the clusters witk k=10\n",
        "# getting from the membership matrix of 5000 instances x 10 columns (one per cluster) the max value\n",
        "# from each row (axis=1) that denotes the membership to the cluster (the membership matrix have 0 or 1)\n",
        "# this retrieves a matrix with the shape of the instances (aprox 5000) with one column indicating the belonging to each cluster\n",
        "clusters = np.argmax(memberships_10, axis=1)"
      ],
      "metadata": {
        "id": "RwPO4EREneMd"
      },
      "execution_count": null,
      "outputs": []
    },
    {
      "cell_type": "code",
      "source": [
        "print(clusters.shape)"
      ],
      "metadata": {
        "colab": {
          "base_uri": "https://localhost:8080/"
        },
        "id": "5Xbu1D9VoLDg",
        "outputId": "1d00bd12-94bb-42ed-cbb9-c23b01fe2ec0"
      },
      "execution_count": null,
      "outputs": [
        {
          "output_type": "stream",
          "name": "stdout",
          "text": [
            "(5489,)\n"
          ]
        }
      ]
    },
    {
      "cell_type": "markdown",
      "source": [
        "Gini and Purity index"
      ],
      "metadata": {
        "id": "PsX7Gq6flyhx"
      }
    },
    {
      "cell_type": "code",
      "source": [
        "# Function for Purity\n",
        "# Purity measures how well the clusters align with the true labels\n",
        "from collections import Counter\n",
        "\n",
        "def purity(clusters, labels):\n",
        "    correct_labels = 0  # Initialize a counter to keep track of correctly assigned points\n",
        "    n_clusters = len(np.unique(clusters))  # Total number of clusters\n",
        "\n",
        "    for cluster in range(n_clusters):\n",
        "        indices = np.where(clusters == cluster)[0]  # Get the indices of points in this cluster\n",
        "        cluster_labels = labels[indices]  # Get the true labels for the points in this cluster\n",
        "        most_freq = Counter(cluster_labels).most_common(1)[0][1]  # Find the most frequent label in the cluster\n",
        "        correct_labels += most_freq  # Add the count of correct predictions for this cluster\n",
        "\n",
        "    return correct_labels / len(labels)  # Compute and return purity as the fraction of correct predictions"
      ],
      "metadata": {
        "id": "iKhH7Md8m2gF"
      },
      "execution_count": null,
      "outputs": []
    },
    {
      "cell_type": "code",
      "source": [
        "ng_purity = purity(clusters, y_filtered)\n",
        "print(f\"Purity: {ng_purity}\")"
      ],
      "metadata": {
        "colab": {
          "base_uri": "https://localhost:8080/"
        },
        "id": "pI-CmDGxoSTl",
        "outputId": "e86a544d-7137-4201-a24d-bf1b99a66667"
      },
      "execution_count": null,
      "outputs": [
        {
          "output_type": "stream",
          "name": "stdout",
          "text": [
            "Purity: 0.7023137183457825\n"
          ]
        }
      ]
    },
    {
      "cell_type": "code",
      "source": [
        "# Function for Gini Index\n",
        "# The Gini index measures the heterogeneity of labels within clusters\n",
        "\n",
        "def gini_index(clusters, Y):\n",
        "    n_samples = len(Y)  # Total number of samples in the dataset\n",
        "    n_clusters = len(np.unique(clusters))  # Total number of unique clusters\n",
        "    total_gini = 0  # Initialize the weighted Gini index accumulator\n",
        "\n",
        "    for cluster in range(n_clusters):\n",
        "        # Get indices of data points assigned to the current cluster\n",
        "        indices = np.where(clusters == cluster)[0]\n",
        "        cluster_labels = Y[indices]  # Get the true labels of the points in this cluster\n",
        "\n",
        "        # Compute the total number of points in the cluster\n",
        "        total_points = len(cluster_labels)\n",
        "        if total_points == 0:\n",
        "            continue  # Skip the cluster if it's empty\n",
        "\n",
        "        # Count the occurrences of each label in the cluster\n",
        "        label_counts = Counter(cluster_labels)\n",
        "        # Compute the proportions of each label\n",
        "        proportions = np.array([count / total_points for count in label_counts.values()])\n",
        "\n",
        "        # Calculate the Gini index for this cluster\n",
        "        gini = 1 - np.sum(proportions**2)  # Gini index formula: 1 - sum(p_j^2)\n",
        "        total_gini += total_points * gini  # Weight the Gini index by cluster size\n",
        "\n",
        "    # Calculate the global Gini index by averaging over all clusters\n",
        "    global_gini = total_gini / n_samples\n",
        "    return global_gini"
      ],
      "metadata": {
        "id": "r1z6IrY_oes7"
      },
      "execution_count": null,
      "outputs": []
    },
    {
      "cell_type": "code",
      "source": [
        "#gini computation\n",
        "gini_ng = gini_index(clusters, y_filtered)\n",
        "print(f\"Gini: {gini_ng}\")"
      ],
      "metadata": {
        "colab": {
          "base_uri": "https://localhost:8080/"
        },
        "id": "elIp8E6HojO6",
        "outputId": "84d63da6-4935-42a8-87d5-6aca509df79b"
      },
      "execution_count": null,
      "outputs": [
        {
          "output_type": "stream",
          "name": "stdout",
          "text": [
            "Gini: 0.4245116807605418\n"
          ]
        }
      ]
    },
    {
      "cell_type": "code",
      "source": [],
      "metadata": {
        "id": "74QZUeygomsC"
      },
      "execution_count": null,
      "outputs": []
    }
  ]
}