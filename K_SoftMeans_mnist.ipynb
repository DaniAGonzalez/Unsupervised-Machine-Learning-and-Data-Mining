{
  "nbformat": 4,
  "nbformat_minor": 0,
  "metadata": {
    "colab": {
      "provenance": []
    },
    "kernelspec": {
      "name": "python3",
      "display_name": "Python 3"
    },
    "language_info": {
      "name": "python"
    }
  },
  "cells": [
    {
      "cell_type": "code",
      "execution_count": null,
      "metadata": {
        "id": "1FeTwRBfcjnY"
      },
      "outputs": [],
      "source": [
        "import numpy as np\n",
        "import tensorflow as tf\n",
        "from sklearn.metrics.pairwise import euclidean_distances\n",
        "from collections import Counter"
      ]
    },
    {
      "cell_type": "code",
      "source": [
        "# Load MNIST dataset and concatenate train and test sets\n",
        "mnist = tf.keras.datasets.mnist\n",
        "(X_train, y_train), (X_test, y_test) = mnist.load_data()"
      ],
      "metadata": {
        "colab": {
          "base_uri": "https://localhost:8080/"
        },
        "id": "O47wCK5Fct7O",
        "outputId": "5556b832-6414-4a6a-d07a-3eb8cfcc4aa6"
      },
      "execution_count": null,
      "outputs": [
        {
          "output_type": "stream",
          "name": "stdout",
          "text": [
            "Downloading data from https://storage.googleapis.com/tensorflow/tf-keras-datasets/mnist.npz\n",
            "\u001b[1m11490434/11490434\u001b[0m \u001b[32m━━━━━━━━━━━━━━━━━━━━\u001b[0m\u001b[37m\u001b[0m \u001b[1m0s\u001b[0m 0us/step\n"
          ]
        }
      ]
    },
    {
      "cell_type": "code",
      "source": [
        "# Concatenation of split data\n",
        "X = np.concatenate((X_train, X_test), axis=0)  # X contains all images\n",
        "y = np.concatenate((y_train, y_test), axis=0)  # y contains all labels\n",
        "\n",
        "# Flatten the images (from 28x28 to 784)\n",
        "data = X.reshape(X.shape[0], -1)\n",
        "\n",
        "# Normalize the dataset (scaling pixel values to [0,1])\n",
        "data = data / 255.0"
      ],
      "metadata": {
        "id": "x12lKgQPcws1"
      },
      "execution_count": null,
      "outputs": []
    },
    {
      "cell_type": "code",
      "source": [
        "# Function to initialize centroids randomly from the dataset\n",
        "def init_centroids(data, k):\n",
        "    np.random.seed(42)  # Set seed for reproducibility\n",
        "    return data[np.random.choice(data.shape[0], k, replace=False)]  # Select k random points"
      ],
      "metadata": {
        "id": "Jb8AAZ7uc19J"
      },
      "execution_count": null,
      "outputs": []
    },
    {
      "cell_type": "code",
      "source": [
        "# Soft K-Means E-step: Compute soft memberships using distances and beta parameter\n",
        "# In contraste with the hard KMeans, in this step I compute the prob of a point to belong to a cluster\n",
        "# using a Pr function (exponential function) controlled by the beta parameter\n",
        "\n",
        "def e_step_soft(data, centroids, beta):\n",
        "    # compute Euclidean distances between each data point and each centroid\n",
        "    distances = euclidean_distances(data, centroids)\n",
        "\n",
        "    # square the distances (since similarity decreases with distance squared)\n",
        "    squared_distances = distances ** 2\n",
        "\n",
        "    # compute negative beta-scaled distances (logits for softmax)\n",
        "    #transform distances in negative values in order to make the smallest one hihgers helping to compute similarities\n",
        "    logits = -beta * squared_distances\n",
        "\n",
        "    # normalize by subtracting the max value per row (to deal w/ big values after exp)\n",
        "    max_logits = np.max(logits, axis=1, keepdims=True)\n",
        "\n",
        "    # Compute exponentials of the scaled distances\n",
        "    exp_logits = np.exp(logits - max_logits)\n",
        "\n",
        "    # Normalize to get probabilities (soft cluster assignments)\n",
        "    soft_memberships = exp_logits / np.sum(exp_logits, axis=1, keepdims=True)\n",
        "\n",
        "    return soft_memberships\n"
      ],
      "metadata": {
        "id": "raQzmVRCc4hx"
      },
      "execution_count": null,
      "outputs": []
    },
    {
      "cell_type": "code",
      "source": [
        "# Compute the objective function J for soft K-Means\n",
        "def compute_objective_soft(data, centroids, memberships):\n",
        "    dist_squared = euclidean_distances(data, centroids) ** 2\n",
        "    return np.sum(memberships * dist_squared)  # Weighted sum of squared distances"
      ],
      "metadata": {
        "id": "s4UpnzWic7m7"
      },
      "execution_count": null,
      "outputs": []
    },
    {
      "cell_type": "code",
      "source": [
        "# Soft M-step: Update centroids using soft memberships\n",
        "def m_step_soft(data, memberships):\n",
        "    return np.dot(memberships.T, data) / np.sum(memberships, axis=0, keepdims=True).T  # Weighted mean update\n"
      ],
      "metadata": {
        "id": "SSFGF1kZdABy"
      },
      "execution_count": null,
      "outputs": []
    },
    {
      "cell_type": "code",
      "source": [
        "# soft K-Means main function\n",
        "def soft_kmeans(data, k, beta, max_iter=10):\n",
        "    centroids = init_centroids(data, k)  # Initialize centroids\n",
        "    J_history = []  # Store objective function values\n",
        "\n",
        "    for iteration in range(max_iter):\n",
        "        # E-step: compute soft memberships\n",
        "        memberships = e_step_soft(data, centroids, beta)\n",
        "        J_e = compute_objective_soft(data, centroids, memberships)\n",
        "        J_history.append((iteration + 1, 'E-step', J_e))\n",
        "        print(f\"Iteration {iteration + 1} (E-step), Objective Function J: {J_e}\")\n",
        "\n",
        "        # M-step: update centroids\n",
        "        centroids = m_step_soft(data, memberships)\n",
        "        J_after = compute_objective_soft(data, centroids, memberships)\n",
        "        J_history.append((iteration + 1, 'M-step', J_after))\n",
        "        print(f\"Iteration {iteration + 1} (M-step), Objective Function J: {J_after}\")\n",
        "\n",
        "    return centroids, memberships, J_history"
      ],
      "metadata": {
        "id": "BwSfLjkZdDBu"
      },
      "execution_count": null,
      "outputs": []
    },
    {
      "cell_type": "code",
      "source": [
        "# Run Soft K-Means with different beta values\n",
        "k = 10  # Number of clusters\n",
        "max_iter = 10  # Number of iterations\n",
        "\n",
        "for beta in [0.1, 1, 10]:  # Test different values of beta\n",
        "#low beta: more difuse assigment. Low Purity, high Gini\n",
        "#high beta: more hard clustering. High Purity, Low Gini\n",
        "    print(f\"\\nRunning Soft K-Means with beta={beta}\")\n",
        "    centroids, memberships, J_values = soft_kmeans(data, k, beta, max_iter)\n",
        "\n",
        "    # Retrieve soft cluster assignments (most probable cluster for each point)\n",
        "    clusters = np.argmax(memberships, axis=1)\n",
        "\n",
        "    # Compute purity\n",
        "    def purity(clusters, labels):\n",
        "        correct_labels = 0\n",
        "        n_clusters = len(np.unique(clusters))\n",
        "        for cluster in range(n_clusters):\n",
        "            indices = np.where(clusters == cluster)[0]\n",
        "            cluster_labels = labels[indices]\n",
        "            most_freq = Counter(cluster_labels).most_common(1)[0][1] if len(cluster_labels) > 0 else 0\n",
        "            correct_labels += most_freq\n",
        "        return correct_labels / len(labels)\n",
        "\n",
        "    mnist_purity = purity(clusters, y)\n",
        "    print(f\"Purity for beta={beta}: {mnist_purity}\")\n",
        "\n",
        "    # Compute Gini index\n",
        "    def gini_index(clusters, labels):\n",
        "        n_samples = len(labels)\n",
        "        n_clusters = len(np.unique(clusters))\n",
        "        total_gini = 0\n",
        "        for cluster in range(n_clusters):\n",
        "            indices = np.where(clusters == cluster)[0]\n",
        "            cluster_labels = labels[indices]\n",
        "            total_points = len(cluster_labels)\n",
        "            if total_points == 0:\n",
        "                continue\n",
        "            label_counts = Counter(cluster_labels)\n",
        "            proportions = np.array([count / total_points for count in label_counts.values()])\n",
        "            gini = 1 - np.sum(proportions**2)\n",
        "            total_gini += total_points * gini\n",
        "        return total_gini / n_samples\n",
        "\n",
        "    gini_mnist = gini_index(clusters, y)\n",
        "    print(f\"Gini Index for beta={beta}: {gini_mnist}\")"
      ],
      "metadata": {
        "colab": {
          "base_uri": "https://localhost:8080/"
        },
        "id": "gDt_d9njdD8-",
        "outputId": "7202f0b8-85d0-4822-ec0f-6f600cfecfd4"
      },
      "execution_count": null,
      "outputs": [
        {
          "output_type": "stream",
          "name": "stdout",
          "text": [
            "\n",
            "Running Soft K-Means with beta=0.1\n",
            "Iteration 1 (E-step), Objective Function J: 5550719.149770475\n",
            "Iteration 1 (M-step), Objective Function J: 3325676.4676735066\n",
            "Iteration 2 (E-step), Objective Function J: 3515893.0570897684\n",
            "Iteration 2 (M-step), Objective Function J: 3457536.6174354353\n",
            "Iteration 3 (E-step), Objective Function J: 3515197.661252457\n",
            "Iteration 3 (M-step), Objective Function J: 3503089.659505628\n",
            "Iteration 4 (E-step), Objective Function J: 3530706.840236037\n",
            "Iteration 4 (M-step), Objective Function J: 3526140.6917369524\n",
            "Iteration 5 (E-step), Objective Function J: 3541755.3993361616\n",
            "Iteration 5 (M-step), Objective Function J: 3539540.9462528806\n",
            "Iteration 6 (E-step), Objective Function J: 3549131.2696833275\n",
            "Iteration 6 (M-step), Objective Function J: 3547915.276606634\n",
            "Iteration 7 (E-step), Objective Function J: 3554106.412412989\n",
            "Iteration 7 (M-step), Objective Function J: 3553382.620266587\n",
            "Iteration 8 (E-step), Objective Function J: 3557498.6452415343\n",
            "Iteration 8 (M-step), Objective Function J: 3557044.8450312656\n",
            "Iteration 9 (E-step), Objective Function J: 3559828.061525284\n",
            "Iteration 9 (M-step), Objective Function J: 3559534.62030689\n",
            "Iteration 10 (E-step), Objective Function J: 3561436.9361652173\n",
            "Iteration 10 (M-step), Objective Function J: 3561243.754604804\n",
            "Purity for beta=0.1: 0.4090142857142857\n",
            "Gini Index for beta=0.1: 0.7238937716653925\n",
            "\n",
            "Running Soft K-Means with beta=1\n",
            "Iteration 1 (E-step), Objective Function J: 5125774.401238745\n",
            "Iteration 1 (M-step), Objective Function J: 3090737.408123746\n",
            "Iteration 2 (E-step), Objective Function J: 2957433.7818647157\n",
            "Iteration 2 (M-step), Objective Function J: 2877743.5002507367\n",
            "Iteration 3 (E-step), Objective Function J: 2836700.687276213\n",
            "Iteration 3 (M-step), Objective Function J: 2815009.5536213894\n",
            "Iteration 4 (E-step), Objective Function J: 2802991.3088115063\n",
            "Iteration 4 (M-step), Objective Function J: 2796768.837763386\n",
            "Iteration 5 (E-step), Objective Function J: 2792737.475228113\n",
            "Iteration 5 (M-step), Objective Function J: 2790215.272004265\n",
            "Iteration 6 (E-step), Objective Function J: 2788226.837950104\n",
            "Iteration 6 (M-step), Objective Function J: 2786756.108070893\n",
            "Iteration 7 (E-step), Objective Function J: 2785360.8269342054\n",
            "Iteration 7 (M-step), Objective Function J: 2783963.498810216\n",
            "Iteration 8 (E-step), Objective Function J: 2782236.9818857885\n",
            "Iteration 8 (M-step), Objective Function J: 2780176.2091300376\n",
            "Iteration 9 (E-step), Objective Function J: 2777467.981809832\n",
            "Iteration 9 (M-step), Objective Function J: 2774623.941764764\n",
            "Iteration 10 (E-step), Objective Function J: 2771808.5870633265\n",
            "Iteration 10 (M-step), Objective Function J: 2769742.6123544583\n",
            "Purity for beta=1: 0.6007857142857143\n",
            "Gini Index for beta=1: 0.5208726120126727\n",
            "\n",
            "Running Soft K-Means with beta=10\n",
            "Iteration 1 (E-step), Objective Function J: 5120936.835129178\n",
            "Iteration 1 (M-step), Objective Function J: 3087448.3178384197\n",
            "Iteration 2 (E-step), Objective Function J: 2950946.866252025\n",
            "Iteration 2 (M-step), Objective Function J: 2869675.870142281\n",
            "Iteration 3 (E-step), Objective Function J: 2831493.3560630116\n",
            "Iteration 3 (M-step), Objective Function J: 2809609.332249185\n",
            "Iteration 4 (E-step), Objective Function J: 2798507.235881198\n",
            "Iteration 4 (M-step), Objective Function J: 2792323.4636062384\n",
            "Iteration 5 (E-step), Objective Function J: 2788627.4758481174\n",
            "Iteration 5 (M-step), Objective Function J: 2786068.6361623835\n",
            "Iteration 6 (E-step), Objective Function J: 2784196.505231562\n",
            "Iteration 6 (M-step), Objective Function J: 2782716.120752827\n",
            "Iteration 7 (E-step), Objective Function J: 2781361.6933360365\n",
            "Iteration 7 (M-step), Objective Function J: 2779836.7828171877\n",
            "Iteration 8 (E-step), Objective Function J: 2778042.5776112657\n",
            "Iteration 8 (M-step), Objective Function J: 2775635.261965216\n",
            "Iteration 9 (E-step), Objective Function J: 2772817.645497833\n",
            "Iteration 9 (M-step), Objective Function J: 2769579.9340156666\n",
            "Iteration 10 (E-step), Objective Function J: 2767101.643808032\n",
            "Iteration 10 (M-step), Objective Function J: 2765247.690749095\n",
            "Purity for beta=10: 0.6015285714285714\n",
            "Gini Index for beta=10: 0.5203605123923299\n"
          ]
        }
      ]
    }
  ]
}